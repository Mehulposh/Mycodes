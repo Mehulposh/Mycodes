{
 "cells": [
  {
   "cell_type": "code",
   "execution_count": 66,
   "id": "4513717c",
   "metadata": {},
   "outputs": [],
   "source": [
    "import numpy as np\n",
    "import pandas as pd\n",
    "import matplotlib.pyplot as plt\n",
    "from sklearn.model_selection import train_test_split\n",
    "from sklearn.preprocessing import StandardScaler\n",
    "from sklearn import model_selection\n",
    "from sklearn.linear_model import LogisticRegression\n",
    "from sklearn.svm import SVC\n",
    "from sklearn.neighbors import KNeighborsClassifier\n",
    "from sklearn.ensemble import RandomForestClassifier\n",
    "from sklearn.tree import DecisionTreeClassifier\n",
    "from sklearn import metrics\n",
    "from sklearn.metrics import classification_report,confusion_matrix"
   ]
  },
  {
   "cell_type": "code",
   "execution_count": 2,
   "id": "49e58fe1",
   "metadata": {},
   "outputs": [
    {
     "data": {
      "text/html": [
       "<div>\n",
       "<style scoped>\n",
       "    .dataframe tbody tr th:only-of-type {\n",
       "        vertical-align: middle;\n",
       "    }\n",
       "\n",
       "    .dataframe tbody tr th {\n",
       "        vertical-align: top;\n",
       "    }\n",
       "\n",
       "    .dataframe thead th {\n",
       "        text-align: right;\n",
       "    }\n",
       "</style>\n",
       "<table border=\"1\" class=\"dataframe\">\n",
       "  <thead>\n",
       "    <tr style=\"text-align: right;\">\n",
       "      <th></th>\n",
       "      <th>Subject ID</th>\n",
       "      <th>MRI ID</th>\n",
       "      <th>Group</th>\n",
       "      <th>Visit</th>\n",
       "      <th>MR Delay</th>\n",
       "      <th>M/F</th>\n",
       "      <th>Hand</th>\n",
       "      <th>Age</th>\n",
       "      <th>EDUC</th>\n",
       "      <th>SES</th>\n",
       "      <th>MMSE</th>\n",
       "      <th>CDR</th>\n",
       "      <th>eTIV</th>\n",
       "      <th>nWBV</th>\n",
       "      <th>ASF</th>\n",
       "    </tr>\n",
       "  </thead>\n",
       "  <tbody>\n",
       "    <tr>\n",
       "      <th>0</th>\n",
       "      <td>OAS2_0001</td>\n",
       "      <td>OAS2_0001_MR1</td>\n",
       "      <td>Nondemented</td>\n",
       "      <td>1</td>\n",
       "      <td>0</td>\n",
       "      <td>M</td>\n",
       "      <td>R</td>\n",
       "      <td>87</td>\n",
       "      <td>14</td>\n",
       "      <td>2.0</td>\n",
       "      <td>27.0</td>\n",
       "      <td>0.0</td>\n",
       "      <td>1987</td>\n",
       "      <td>0.696</td>\n",
       "      <td>0.883</td>\n",
       "    </tr>\n",
       "    <tr>\n",
       "      <th>1</th>\n",
       "      <td>OAS2_0001</td>\n",
       "      <td>OAS2_0001_MR2</td>\n",
       "      <td>Nondemented</td>\n",
       "      <td>2</td>\n",
       "      <td>457</td>\n",
       "      <td>M</td>\n",
       "      <td>R</td>\n",
       "      <td>88</td>\n",
       "      <td>14</td>\n",
       "      <td>2.0</td>\n",
       "      <td>30.0</td>\n",
       "      <td>0.0</td>\n",
       "      <td>2004</td>\n",
       "      <td>0.681</td>\n",
       "      <td>0.876</td>\n",
       "    </tr>\n",
       "    <tr>\n",
       "      <th>2</th>\n",
       "      <td>OAS2_0002</td>\n",
       "      <td>OAS2_0002_MR1</td>\n",
       "      <td>Demented</td>\n",
       "      <td>1</td>\n",
       "      <td>0</td>\n",
       "      <td>M</td>\n",
       "      <td>R</td>\n",
       "      <td>75</td>\n",
       "      <td>12</td>\n",
       "      <td>NaN</td>\n",
       "      <td>23.0</td>\n",
       "      <td>0.5</td>\n",
       "      <td>1678</td>\n",
       "      <td>0.736</td>\n",
       "      <td>1.046</td>\n",
       "    </tr>\n",
       "    <tr>\n",
       "      <th>3</th>\n",
       "      <td>OAS2_0002</td>\n",
       "      <td>OAS2_0002_MR2</td>\n",
       "      <td>Demented</td>\n",
       "      <td>2</td>\n",
       "      <td>560</td>\n",
       "      <td>M</td>\n",
       "      <td>R</td>\n",
       "      <td>76</td>\n",
       "      <td>12</td>\n",
       "      <td>NaN</td>\n",
       "      <td>28.0</td>\n",
       "      <td>0.5</td>\n",
       "      <td>1738</td>\n",
       "      <td>0.713</td>\n",
       "      <td>1.010</td>\n",
       "    </tr>\n",
       "    <tr>\n",
       "      <th>4</th>\n",
       "      <td>OAS2_0002</td>\n",
       "      <td>OAS2_0002_MR3</td>\n",
       "      <td>Demented</td>\n",
       "      <td>3</td>\n",
       "      <td>1895</td>\n",
       "      <td>M</td>\n",
       "      <td>R</td>\n",
       "      <td>80</td>\n",
       "      <td>12</td>\n",
       "      <td>NaN</td>\n",
       "      <td>22.0</td>\n",
       "      <td>0.5</td>\n",
       "      <td>1698</td>\n",
       "      <td>0.701</td>\n",
       "      <td>1.034</td>\n",
       "    </tr>\n",
       "  </tbody>\n",
       "</table>\n",
       "</div>"
      ],
      "text/plain": [
       "  Subject ID         MRI ID        Group  Visit  MR Delay M/F Hand  Age  EDUC  \\\n",
       "0  OAS2_0001  OAS2_0001_MR1  Nondemented      1         0   M    R   87    14   \n",
       "1  OAS2_0001  OAS2_0001_MR2  Nondemented      2       457   M    R   88    14   \n",
       "2  OAS2_0002  OAS2_0002_MR1     Demented      1         0   M    R   75    12   \n",
       "3  OAS2_0002  OAS2_0002_MR2     Demented      2       560   M    R   76    12   \n",
       "4  OAS2_0002  OAS2_0002_MR3     Demented      3      1895   M    R   80    12   \n",
       "\n",
       "   SES  MMSE  CDR  eTIV   nWBV    ASF  \n",
       "0  2.0  27.0  0.0  1987  0.696  0.883  \n",
       "1  2.0  30.0  0.0  2004  0.681  0.876  \n",
       "2  NaN  23.0  0.5  1678  0.736  1.046  \n",
       "3  NaN  28.0  0.5  1738  0.713  1.010  \n",
       "4  NaN  22.0  0.5  1698  0.701  1.034  "
      ]
     },
     "execution_count": 2,
     "metadata": {},
     "output_type": "execute_result"
    }
   ],
   "source": [
    "df = pd.read_csv('oasis_longitudinal.csv')\n",
    "df.head()"
   ]
  },
  {
   "cell_type": "code",
   "execution_count": 3,
   "id": "7c31b093",
   "metadata": {},
   "outputs": [
    {
     "data": {
      "text/plain": [
       "(373, 15)"
      ]
     },
     "execution_count": 3,
     "metadata": {},
     "output_type": "execute_result"
    }
   ],
   "source": [
    "df.shape"
   ]
  },
  {
   "cell_type": "code",
   "execution_count": 4,
   "id": "8153ce70",
   "metadata": {},
   "outputs": [
    {
     "data": {
      "text/plain": [
       "Subject ID     0\n",
       "MRI ID         0\n",
       "Group          0\n",
       "Visit          0\n",
       "MR Delay       0\n",
       "M/F            0\n",
       "Hand           0\n",
       "Age            0\n",
       "EDUC           0\n",
       "SES           19\n",
       "MMSE           2\n",
       "CDR            0\n",
       "eTIV           0\n",
       "nWBV           0\n",
       "ASF            0\n",
       "dtype: int64"
      ]
     },
     "execution_count": 4,
     "metadata": {},
     "output_type": "execute_result"
    }
   ],
   "source": [
    "df.isnull().sum()"
   ]
  },
  {
   "cell_type": "code",
   "execution_count": 5,
   "id": "2d5c8b34",
   "metadata": {},
   "outputs": [],
   "source": [
    "df[\"SES\"].fillna(\"0\",inplace=True)"
   ]
  },
  {
   "cell_type": "code",
   "execution_count": 6,
   "id": "4a396f41",
   "metadata": {},
   "outputs": [],
   "source": [
    "df[\"MMSE\"].fillna(\"0\",inplace=True)"
   ]
  },
  {
   "cell_type": "code",
   "execution_count": 7,
   "id": "473457e9",
   "metadata": {},
   "outputs": [
    {
     "data": {
      "text/plain": [
       "0"
      ]
     },
     "execution_count": 7,
     "metadata": {},
     "output_type": "execute_result"
    }
   ],
   "source": [
    "df.duplicated().sum()"
   ]
  },
  {
   "cell_type": "code",
   "execution_count": 8,
   "id": "fba2c2a3",
   "metadata": {},
   "outputs": [
    {
     "data": {
      "text/plain": [
       "Subject ID     object\n",
       "MRI ID         object\n",
       "Group          object\n",
       "Visit           int64\n",
       "MR Delay        int64\n",
       "M/F            object\n",
       "Hand           object\n",
       "Age             int64\n",
       "EDUC            int64\n",
       "SES            object\n",
       "MMSE           object\n",
       "CDR           float64\n",
       "eTIV            int64\n",
       "nWBV          float64\n",
       "ASF           float64\n",
       "dtype: object"
      ]
     },
     "execution_count": 8,
     "metadata": {},
     "output_type": "execute_result"
    }
   ],
   "source": [
    "df.dtypes"
   ]
  },
  {
   "cell_type": "code",
   "execution_count": 9,
   "id": "eb0c746e",
   "metadata": {},
   "outputs": [],
   "source": [
    "df.drop('MRI ID',axis=1,inplace=True)"
   ]
  },
  {
   "cell_type": "code",
   "execution_count": 10,
   "id": "26d14938",
   "metadata": {},
   "outputs": [],
   "source": [
    "df.drop('Subject ID',axis=1,inplace=True)"
   ]
  },
  {
   "cell_type": "code",
   "execution_count": 11,
   "id": "e01b6b4d",
   "metadata": {},
   "outputs": [],
   "source": [
    "df['Group'].replace(['Nondemented','Demented','Converted'],[0,1,2],inplace = True)\n",
    "df['M/F'].replace(['M','F'],[0,1],inplace = True)"
   ]
  },
  {
   "cell_type": "code",
   "execution_count": 12,
   "id": "bde0fb84",
   "metadata": {},
   "outputs": [
    {
     "data": {
      "text/plain": [
       "Index(['Group', 'Visit', 'MR Delay', 'M/F', 'Hand', 'Age', 'EDUC', 'SES',\n",
       "       'MMSE', 'CDR', 'eTIV', 'nWBV', 'ASF'],\n",
       "      dtype='object')"
      ]
     },
     "execution_count": 12,
     "metadata": {},
     "output_type": "execute_result"
    }
   ],
   "source": [
    "df.columns"
   ]
  },
  {
   "cell_type": "code",
   "execution_count": 13,
   "id": "6b3aed5c",
   "metadata": {},
   "outputs": [
    {
     "data": {
      "text/html": [
       "<div>\n",
       "<style scoped>\n",
       "    .dataframe tbody tr th:only-of-type {\n",
       "        vertical-align: middle;\n",
       "    }\n",
       "\n",
       "    .dataframe tbody tr th {\n",
       "        vertical-align: top;\n",
       "    }\n",
       "\n",
       "    .dataframe thead th {\n",
       "        text-align: right;\n",
       "    }\n",
       "</style>\n",
       "<table border=\"1\" class=\"dataframe\">\n",
       "  <thead>\n",
       "    <tr style=\"text-align: right;\">\n",
       "      <th></th>\n",
       "      <th>Group</th>\n",
       "      <th>Visit</th>\n",
       "      <th>MR Delay</th>\n",
       "      <th>M/F</th>\n",
       "      <th>Hand</th>\n",
       "      <th>Age</th>\n",
       "      <th>EDUC</th>\n",
       "      <th>SES</th>\n",
       "      <th>MMSE</th>\n",
       "      <th>CDR</th>\n",
       "      <th>eTIV</th>\n",
       "      <th>nWBV</th>\n",
       "      <th>ASF</th>\n",
       "    </tr>\n",
       "  </thead>\n",
       "  <tbody>\n",
       "    <tr>\n",
       "      <th>0</th>\n",
       "      <td>0</td>\n",
       "      <td>1</td>\n",
       "      <td>0</td>\n",
       "      <td>0</td>\n",
       "      <td>R</td>\n",
       "      <td>87</td>\n",
       "      <td>14</td>\n",
       "      <td>2.0</td>\n",
       "      <td>27.0</td>\n",
       "      <td>0.0</td>\n",
       "      <td>1987</td>\n",
       "      <td>0.696</td>\n",
       "      <td>0.883</td>\n",
       "    </tr>\n",
       "    <tr>\n",
       "      <th>1</th>\n",
       "      <td>0</td>\n",
       "      <td>2</td>\n",
       "      <td>457</td>\n",
       "      <td>0</td>\n",
       "      <td>R</td>\n",
       "      <td>88</td>\n",
       "      <td>14</td>\n",
       "      <td>2.0</td>\n",
       "      <td>30.0</td>\n",
       "      <td>0.0</td>\n",
       "      <td>2004</td>\n",
       "      <td>0.681</td>\n",
       "      <td>0.876</td>\n",
       "    </tr>\n",
       "    <tr>\n",
       "      <th>2</th>\n",
       "      <td>1</td>\n",
       "      <td>1</td>\n",
       "      <td>0</td>\n",
       "      <td>0</td>\n",
       "      <td>R</td>\n",
       "      <td>75</td>\n",
       "      <td>12</td>\n",
       "      <td>0</td>\n",
       "      <td>23.0</td>\n",
       "      <td>0.5</td>\n",
       "      <td>1678</td>\n",
       "      <td>0.736</td>\n",
       "      <td>1.046</td>\n",
       "    </tr>\n",
       "    <tr>\n",
       "      <th>3</th>\n",
       "      <td>1</td>\n",
       "      <td>2</td>\n",
       "      <td>560</td>\n",
       "      <td>0</td>\n",
       "      <td>R</td>\n",
       "      <td>76</td>\n",
       "      <td>12</td>\n",
       "      <td>0</td>\n",
       "      <td>28.0</td>\n",
       "      <td>0.5</td>\n",
       "      <td>1738</td>\n",
       "      <td>0.713</td>\n",
       "      <td>1.010</td>\n",
       "    </tr>\n",
       "    <tr>\n",
       "      <th>4</th>\n",
       "      <td>1</td>\n",
       "      <td>3</td>\n",
       "      <td>1895</td>\n",
       "      <td>0</td>\n",
       "      <td>R</td>\n",
       "      <td>80</td>\n",
       "      <td>12</td>\n",
       "      <td>0</td>\n",
       "      <td>22.0</td>\n",
       "      <td>0.5</td>\n",
       "      <td>1698</td>\n",
       "      <td>0.701</td>\n",
       "      <td>1.034</td>\n",
       "    </tr>\n",
       "  </tbody>\n",
       "</table>\n",
       "</div>"
      ],
      "text/plain": [
       "   Group  Visit  MR Delay  M/F Hand  Age  EDUC  SES  MMSE  CDR  eTIV   nWBV  \\\n",
       "0      0      1         0    0    R   87    14  2.0  27.0  0.0  1987  0.696   \n",
       "1      0      2       457    0    R   88    14  2.0  30.0  0.0  2004  0.681   \n",
       "2      1      1         0    0    R   75    12    0  23.0  0.5  1678  0.736   \n",
       "3      1      2       560    0    R   76    12    0  28.0  0.5  1738  0.713   \n",
       "4      1      3      1895    0    R   80    12    0  22.0  0.5  1698  0.701   \n",
       "\n",
       "     ASF  \n",
       "0  0.883  \n",
       "1  0.876  \n",
       "2  1.046  \n",
       "3  1.010  \n",
       "4  1.034  "
      ]
     },
     "execution_count": 13,
     "metadata": {},
     "output_type": "execute_result"
    }
   ],
   "source": [
    "def impute_median(series):\n",
    "    return series.fillna(series.median())\n",
    "\n",
    "df[\"SES\"]= df[\"SES\"].transform(impute_median)\n",
    "df[\"MMSE\"]= df[\"MMSE\"].transform(impute_median)\n",
    "df.head(5)"
   ]
  },
  {
   "cell_type": "code",
   "execution_count": 14,
   "id": "fb535919",
   "metadata": {},
   "outputs": [
    {
     "data": {
      "text/plain": [
       "(373, 13)"
      ]
     },
     "execution_count": 14,
     "metadata": {},
     "output_type": "execute_result"
    }
   ],
   "source": [
    "df.shape"
   ]
  },
  {
   "cell_type": "code",
   "execution_count": 15,
   "id": "8d9fc7e9",
   "metadata": {},
   "outputs": [],
   "source": [
    "df.drop('Hand',axis=1,inplace=True)"
   ]
  },
  {
   "cell_type": "code",
   "execution_count": 16,
   "id": "d6554424",
   "metadata": {},
   "outputs": [
    {
     "name": "stdout",
     "output_type": "stream",
     "text": [
      "<class 'pandas.core.frame.DataFrame'>\n",
      "<class 'pandas.core.series.Series'>\n"
     ]
    }
   ],
   "source": [
    "x = df.drop('Group',axis=1)\n",
    "y = df['Group']\n",
    "print(type(x))\n",
    "print(type(y))"
   ]
  },
  {
   "cell_type": "code",
   "execution_count": 17,
   "id": "1ebeb38e",
   "metadata": {},
   "outputs": [
    {
     "name": "stdout",
     "output_type": "stream",
     "text": [
      "(373, 11)\n",
      "(373,)\n"
     ]
    }
   ],
   "source": [
    "print(x.shape)\n",
    "print(y.shape)"
   ]
  },
  {
   "cell_type": "code",
   "execution_count": 18,
   "id": "a4ad5f4b",
   "metadata": {},
   "outputs": [
    {
     "name": "stdout",
     "output_type": "stream",
     "text": [
      "(261, 11)\n",
      "(112, 11)\n",
      "(261,)\n",
      "(112,)\n"
     ]
    }
   ],
   "source": [
    "x_train,x_test,y_train,y_test = train_test_split(x,y,test_size=0.30,random_state=42)\n",
    "print(x_train.shape)\n",
    "print(x_test.shape)\n",
    "print(y_train.shape)\n",
    "print(y_test.shape)"
   ]
  },
  {
   "cell_type": "code",
   "execution_count": 19,
   "id": "6dad30e7",
   "metadata": {},
   "outputs": [],
   "source": [
    "\n",
    "sc = StandardScaler()\n",
    "\n",
    "x_train_sc = sc.fit_transform(x_train)\n",
    "x_test_sc = sc.transform(x_test)"
   ]
  },
  {
   "cell_type": "code",
   "execution_count": 20,
   "id": "460a04e6",
   "metadata": {},
   "outputs": [
    {
     "name": "stdout",
     "output_type": "stream",
     "text": [
      "(261, 11)\n",
      "(112, 11)\n"
     ]
    }
   ],
   "source": [
    "print(x_train_sc.shape)\n",
    "print(x_test_sc.shape)"
   ]
  },
  {
   "cell_type": "code",
   "execution_count": 21,
   "id": "bf7d3ce5",
   "metadata": {},
   "outputs": [
    {
     "data": {
      "text/html": [
       "<div>\n",
       "<style scoped>\n",
       "    .dataframe tbody tr th:only-of-type {\n",
       "        vertical-align: middle;\n",
       "    }\n",
       "\n",
       "    .dataframe tbody tr th {\n",
       "        vertical-align: top;\n",
       "    }\n",
       "\n",
       "    .dataframe thead th {\n",
       "        text-align: right;\n",
       "    }\n",
       "</style>\n",
       "<table border=\"1\" class=\"dataframe\">\n",
       "  <thead>\n",
       "    <tr style=\"text-align: right;\">\n",
       "      <th></th>\n",
       "      <th>Group</th>\n",
       "      <th>Visit</th>\n",
       "      <th>MR Delay</th>\n",
       "      <th>M/F</th>\n",
       "      <th>Age</th>\n",
       "      <th>EDUC</th>\n",
       "      <th>SES</th>\n",
       "      <th>MMSE</th>\n",
       "      <th>CDR</th>\n",
       "      <th>eTIV</th>\n",
       "      <th>nWBV</th>\n",
       "      <th>ASF</th>\n",
       "    </tr>\n",
       "  </thead>\n",
       "  <tbody>\n",
       "    <tr>\n",
       "      <th>0</th>\n",
       "      <td>0</td>\n",
       "      <td>1</td>\n",
       "      <td>0</td>\n",
       "      <td>0</td>\n",
       "      <td>87</td>\n",
       "      <td>14</td>\n",
       "      <td>2.0</td>\n",
       "      <td>27.0</td>\n",
       "      <td>0.0</td>\n",
       "      <td>1987</td>\n",
       "      <td>0.696</td>\n",
       "      <td>0.883</td>\n",
       "    </tr>\n",
       "    <tr>\n",
       "      <th>1</th>\n",
       "      <td>0</td>\n",
       "      <td>2</td>\n",
       "      <td>457</td>\n",
       "      <td>0</td>\n",
       "      <td>88</td>\n",
       "      <td>14</td>\n",
       "      <td>2.0</td>\n",
       "      <td>30.0</td>\n",
       "      <td>0.0</td>\n",
       "      <td>2004</td>\n",
       "      <td>0.681</td>\n",
       "      <td>0.876</td>\n",
       "    </tr>\n",
       "    <tr>\n",
       "      <th>2</th>\n",
       "      <td>1</td>\n",
       "      <td>1</td>\n",
       "      <td>0</td>\n",
       "      <td>0</td>\n",
       "      <td>75</td>\n",
       "      <td>12</td>\n",
       "      <td>0</td>\n",
       "      <td>23.0</td>\n",
       "      <td>0.5</td>\n",
       "      <td>1678</td>\n",
       "      <td>0.736</td>\n",
       "      <td>1.046</td>\n",
       "    </tr>\n",
       "    <tr>\n",
       "      <th>3</th>\n",
       "      <td>1</td>\n",
       "      <td>2</td>\n",
       "      <td>560</td>\n",
       "      <td>0</td>\n",
       "      <td>76</td>\n",
       "      <td>12</td>\n",
       "      <td>0</td>\n",
       "      <td>28.0</td>\n",
       "      <td>0.5</td>\n",
       "      <td>1738</td>\n",
       "      <td>0.713</td>\n",
       "      <td>1.010</td>\n",
       "    </tr>\n",
       "    <tr>\n",
       "      <th>4</th>\n",
       "      <td>1</td>\n",
       "      <td>3</td>\n",
       "      <td>1895</td>\n",
       "      <td>0</td>\n",
       "      <td>80</td>\n",
       "      <td>12</td>\n",
       "      <td>0</td>\n",
       "      <td>22.0</td>\n",
       "      <td>0.5</td>\n",
       "      <td>1698</td>\n",
       "      <td>0.701</td>\n",
       "      <td>1.034</td>\n",
       "    </tr>\n",
       "  </tbody>\n",
       "</table>\n",
       "</div>"
      ],
      "text/plain": [
       "   Group  Visit  MR Delay  M/F  Age  EDUC  SES  MMSE  CDR  eTIV   nWBV    ASF\n",
       "0      0      1         0    0   87    14  2.0  27.0  0.0  1987  0.696  0.883\n",
       "1      0      2       457    0   88    14  2.0  30.0  0.0  2004  0.681  0.876\n",
       "2      1      1         0    0   75    12    0  23.0  0.5  1678  0.736  1.046\n",
       "3      1      2       560    0   76    12    0  28.0  0.5  1738  0.713  1.010\n",
       "4      1      3      1895    0   80    12    0  22.0  0.5  1698  0.701  1.034"
      ]
     },
     "execution_count": 21,
     "metadata": {},
     "output_type": "execute_result"
    }
   ],
   "source": [
    "df.head()"
   ]
  },
  {
   "cell_type": "code",
   "execution_count": 22,
   "id": "42beb8b4",
   "metadata": {},
   "outputs": [
    {
     "data": {
      "text/plain": [
       "<bound method NDFrame.describe of      Visit  MR Delay  M/F  Age  EDUC  SES  MMSE  CDR  eTIV   nWBV    ASF\n",
       "0        1         0    0   87    14  2.0  27.0  0.0  1987  0.696  0.883\n",
       "1        2       457    0   88    14  2.0  30.0  0.0  2004  0.681  0.876\n",
       "2        1         0    0   75    12    0  23.0  0.5  1678  0.736  1.046\n",
       "3        2       560    0   76    12    0  28.0  0.5  1738  0.713  1.010\n",
       "4        3      1895    0   80    12    0  22.0  0.5  1698  0.701  1.034\n",
       "..     ...       ...  ...  ...   ...  ...   ...  ...   ...    ...    ...\n",
       "368      2       842    0   82    16  1.0  28.0  0.5  1693  0.694  1.037\n",
       "369      3      2297    0   86    16  1.0  26.0  0.5  1688  0.675  1.040\n",
       "370      1         0    1   61    13  2.0  30.0  0.0  1319  0.801  1.331\n",
       "371      2       763    1   63    13  2.0  30.0  0.0  1327  0.796  1.323\n",
       "372      3      1608    1   65    13  2.0  30.0  0.0  1333  0.801  1.317\n",
       "\n",
       "[373 rows x 11 columns]>"
      ]
     },
     "execution_count": 22,
     "metadata": {},
     "output_type": "execute_result"
    }
   ],
   "source": [
    "x.describe"
   ]
  },
  {
   "cell_type": "code",
   "execution_count": 42,
   "id": "e3c08694",
   "metadata": {},
   "outputs": [],
   "source": [
    "def eval_model(ytest,ypred):\n",
    "    cm = confusion_matrix(ytest,ypred)\n",
    "    print('Accuracy: ',metrics.accuracy_score(y_test, ypred))\n",
    "   \n",
    "    print(cm)\n",
    "    print(classification_report(ytest,ypred))"
   ]
  },
  {
   "cell_type": "code",
   "execution_count": 24,
   "id": "baf30747",
   "metadata": {},
   "outputs": [
    {
     "data": {
      "text/plain": [
       "LogisticRegression()"
      ]
     },
     "execution_count": 24,
     "metadata": {},
     "output_type": "execute_result"
    }
   ],
   "source": [
    "lr = LogisticRegression()\n",
    "lr.fit(x_train_sc,y_train)  "
   ]
  },
  {
   "cell_type": "code",
   "execution_count": 37,
   "id": "cd6cc626",
   "metadata": {},
   "outputs": [
    {
     "name": "stdout",
     "output_type": "stream",
     "text": [
      "[1 0 1 0 0 1 1 0 0 1 1 1 0 0 1 0 0 1 0 1 0 0 1 1 0 1 1 0 0 2 1 0 0 1 0 0 0\n",
      " 0 0 1 0 0 1 2 0 1 1 0 0 1 1 0 1 0 1 0 1 1 0 1 0 0 1 1 2 1 0 0 1 0 1 1 0 0\n",
      " 0 0 1 0 0 1 0 1 0 0 0 1 1 1 0 0 0 1 0 1 1 1 0 1 1 0 0 0 0 0 1 0 1 1 0 0 1\n",
      " 1]\n"
     ]
    }
   ],
   "source": [
    "ypred_lr = lr.predict(x_test_sc)\n",
    "print(ypred)"
   ]
  },
  {
   "cell_type": "code",
   "execution_count": 38,
   "id": "602f1e11",
   "metadata": {},
   "outputs": [
    {
     "name": "stdout",
     "output_type": "stream",
     "text": [
      "Train Score 0.9425287356321839\n",
      "Test Score 0.875\n"
     ]
    }
   ],
   "source": [
    "print('Train Score',lr.score(x_train_sc,y_train)) \n",
    "print('Test Score',lr.score(x_test_sc,y_test))    "
   ]
  },
  {
   "cell_type": "code",
   "execution_count": 28,
   "id": "76049428",
   "metadata": {},
   "outputs": [
    {
     "data": {
      "text/plain": [
       "KNeighborsClassifier(n_neighbors=11)"
      ]
     },
     "execution_count": 28,
     "metadata": {},
     "output_type": "execute_result"
    }
   ],
   "source": [
    "m1 = KNeighborsClassifier(n_neighbors=11)\n",
    "m1.fit(x_train_sc,y_train)"
   ]
  },
  {
   "cell_type": "code",
   "execution_count": 29,
   "id": "97295ae1",
   "metadata": {},
   "outputs": [
    {
     "name": "stdout",
     "output_type": "stream",
     "text": [
      "[1 0 1 0 0 1 1 0 0 1 1 1 0 0 1 0 0 1 0 1 0 0 1 1 0 1 1 0 0 2 1 0 0 1 0 0 0\n",
      " 0 0 1 0 0 1 2 0 1 1 0 0 1 1 0 1 0 1 0 1 1 0 1 0 0 1 1 2 1 0 0 1 0 1 1 0 0\n",
      " 0 0 1 0 0 1 0 1 0 0 0 1 1 1 0 0 0 1 0 1 1 1 0 1 1 0 0 0 0 0 1 0 1 1 0 0 1\n",
      " 1]\n"
     ]
    },
    {
     "name": "stderr",
     "output_type": "stream",
     "text": [
      "C:\\Users\\mehul\\anaconda3\\lib\\site-packages\\sklearn\\neighbors\\_classification.py:228: FutureWarning: Unlike other reduction functions (e.g. `skew`, `kurtosis`), the default behavior of `mode` typically preserves the axis it acts along. In SciPy 1.11.0, this behavior will change: the default value of `keepdims` will become False, the `axis` over which the statistic is taken will be eliminated, and the value None will no longer be accepted. Set `keepdims` to True or False to avoid this warning.\n",
      "  mode, _ = stats.mode(_y[neigh_ind, k], axis=1)\n"
     ]
    }
   ],
   "source": [
    "ypred_m1 = m1.predict(x_test_sc)\n",
    "print(ypred)"
   ]
  },
  {
   "cell_type": "code",
   "execution_count": 30,
   "id": "7773010b",
   "metadata": {},
   "outputs": [
    {
     "data": {
      "text/plain": [
       "SVC(gamma=0.01)"
      ]
     },
     "execution_count": 30,
     "metadata": {},
     "output_type": "execute_result"
    }
   ],
   "source": [
    "svm1 = SVC(kernel='rbf',gamma=0.01)\n",
    "svm1.fit(x_train_sc,y_train)"
   ]
  },
  {
   "cell_type": "code",
   "execution_count": 31,
   "id": "bd05bdb5",
   "metadata": {},
   "outputs": [],
   "source": [
    "ypred_svm1=svm1.predict(x_test_sc)"
   ]
  },
  {
   "cell_type": "code",
   "execution_count": 32,
   "id": "921cb054",
   "metadata": {},
   "outputs": [
    {
     "name": "stdout",
     "output_type": "stream",
     "text": [
      "Train Score 0.9080459770114943\n",
      "Test Score 0.8660714285714286\n"
     ]
    }
   ],
   "source": [
    "print('Train Score',svm1.score(x_train_sc,y_train))\n",
    "print('Test Score',svm1.score(x_test_sc,y_test))"
   ]
  },
  {
   "cell_type": "code",
   "execution_count": 33,
   "id": "b5d8c713",
   "metadata": {},
   "outputs": [
    {
     "data": {
      "text/plain": [
       "SVC(kernel='linear')"
      ]
     },
     "execution_count": 33,
     "metadata": {},
     "output_type": "execute_result"
    }
   ],
   "source": [
    "svm2 = SVC(kernel='linear')\n",
    "svm2.fit(x_train_sc,y_train)"
   ]
  },
  {
   "cell_type": "code",
   "execution_count": 34,
   "id": "79c55db1",
   "metadata": {},
   "outputs": [
    {
     "name": "stdout",
     "output_type": "stream",
     "text": [
      "Train Score 0.9425287356321839\n",
      "Test Score 0.8571428571428571\n"
     ]
    }
   ],
   "source": [
    "print('Train Score',svm2.score(x_train_sc,y_train))\n",
    "print('Test Score',svm2.score(x_test_sc,y_test))"
   ]
  },
  {
   "cell_type": "code",
   "execution_count": 35,
   "id": "6c5a0087",
   "metadata": {},
   "outputs": [],
   "source": [
    "ypred_svm2 = svm2.predict(x_test_sc)"
   ]
  },
  {
   "cell_type": "code",
   "execution_count": 50,
   "id": "71d27670",
   "metadata": {},
   "outputs": [
    {
     "data": {
      "text/plain": [
       "DecisionTreeClassifier(random_state=1)"
      ]
     },
     "execution_count": 50,
     "metadata": {},
     "output_type": "execute_result"
    }
   ],
   "source": [
    "clf = DecisionTreeClassifier(random_state=1)\n",
    "clf.fit(x_train_sc, y_train)"
   ]
  },
  {
   "cell_type": "code",
   "execution_count": 53,
   "id": "cc914466",
   "metadata": {},
   "outputs": [],
   "source": [
    "ypred_clf = clf.predict(x_test_sc)"
   ]
  },
  {
   "cell_type": "code",
   "execution_count": 55,
   "id": "61cc377f",
   "metadata": {},
   "outputs": [
    {
     "data": {
      "text/plain": [
       "RandomForestClassifier(random_state=0)"
      ]
     },
     "execution_count": 55,
     "metadata": {},
     "output_type": "execute_result"
    }
   ],
   "source": [
    "rfc = RandomForestClassifier(n_estimators=100, random_state=0)\n",
    "rfc.fit(x_train_sc, y_train)"
   ]
  },
  {
   "cell_type": "code",
   "execution_count": 56,
   "id": "d8de8145",
   "metadata": {},
   "outputs": [],
   "source": [
    "ypred_rfc = rfc.predict(x_test_sc)"
   ]
  },
  {
   "cell_type": "code",
   "execution_count": 43,
   "id": "010f2519",
   "metadata": {},
   "outputs": [
    {
     "name": "stdout",
     "output_type": "stream",
     "text": [
      "FOR LOGISTIC REGRESSION :- \n",
      "\n",
      "Accuracy:  0.875\n",
      "[[51  1  0]\n",
      " [ 0 45  1]\n",
      " [ 8  4  2]]\n",
      "              precision    recall  f1-score   support\n",
      "\n",
      "           0       0.86      0.98      0.92        52\n",
      "           1       0.90      0.98      0.94        46\n",
      "           2       0.67      0.14      0.24        14\n",
      "\n",
      "    accuracy                           0.88       112\n",
      "   macro avg       0.81      0.70      0.70       112\n",
      "weighted avg       0.85      0.88      0.84       112\n",
      "\n"
     ]
    }
   ],
   "source": [
    "print(\"FOR LOGISTIC REGRESSION :- \\n\")\n",
    "eval_model(y_test,ypred_lr)"
   ]
  },
  {
   "cell_type": "code",
   "execution_count": 47,
   "id": "45674be8",
   "metadata": {},
   "outputs": [
    {
     "name": "stdout",
     "output_type": "stream",
     "text": [
      "FOR SVM USING LINEAR KERNEL :- \n",
      "\n",
      "Accuracy:  0.8571428571428571\n",
      "[[51  1  0]\n",
      " [ 0 43  3]\n",
      " [ 8  4  2]]\n",
      "              precision    recall  f1-score   support\n",
      "\n",
      "           0       0.86      0.98      0.92        52\n",
      "           1       0.90      0.93      0.91        46\n",
      "           2       0.40      0.14      0.21        14\n",
      "\n",
      "    accuracy                           0.86       112\n",
      "   macro avg       0.72      0.69      0.68       112\n",
      "weighted avg       0.82      0.86      0.83       112\n",
      "\n"
     ]
    }
   ],
   "source": [
    "print(\"FOR SVM USING LINEAR KERNEL :- \\n\")\n",
    "eval_model(y_test,ypred_svm2)"
   ]
  },
  {
   "cell_type": "code",
   "execution_count": 48,
   "id": "16a4031f",
   "metadata": {},
   "outputs": [
    {
     "name": "stdout",
     "output_type": "stream",
     "text": [
      "FOR SVM USING RBF KERNEL :- \n",
      "\n",
      "Accuracy:  0.8660714285714286\n",
      "[[51  1  0]\n",
      " [ 0 46  0]\n",
      " [ 8  6  0]]\n",
      "              precision    recall  f1-score   support\n",
      "\n",
      "           0       0.86      0.98      0.92        52\n",
      "           1       0.87      1.00      0.93        46\n",
      "           2       0.00      0.00      0.00        14\n",
      "\n",
      "    accuracy                           0.87       112\n",
      "   macro avg       0.58      0.66      0.62       112\n",
      "weighted avg       0.76      0.87      0.81       112\n",
      "\n"
     ]
    },
    {
     "name": "stderr",
     "output_type": "stream",
     "text": [
      "C:\\Users\\mehul\\anaconda3\\lib\\site-packages\\sklearn\\metrics\\_classification.py:1318: UndefinedMetricWarning: Precision and F-score are ill-defined and being set to 0.0 in labels with no predicted samples. Use `zero_division` parameter to control this behavior.\n",
      "  _warn_prf(average, modifier, msg_start, len(result))\n",
      "C:\\Users\\mehul\\anaconda3\\lib\\site-packages\\sklearn\\metrics\\_classification.py:1318: UndefinedMetricWarning: Precision and F-score are ill-defined and being set to 0.0 in labels with no predicted samples. Use `zero_division` parameter to control this behavior.\n",
      "  _warn_prf(average, modifier, msg_start, len(result))\n",
      "C:\\Users\\mehul\\anaconda3\\lib\\site-packages\\sklearn\\metrics\\_classification.py:1318: UndefinedMetricWarning: Precision and F-score are ill-defined and being set to 0.0 in labels with no predicted samples. Use `zero_division` parameter to control this behavior.\n",
      "  _warn_prf(average, modifier, msg_start, len(result))\n"
     ]
    }
   ],
   "source": [
    "print(\"FOR SVM USING RBF KERNEL :- \\n\")\n",
    "eval_model(y_test,ypred_svm1)"
   ]
  },
  {
   "cell_type": "code",
   "execution_count": 49,
   "id": "fd0c6ede",
   "metadata": {},
   "outputs": [
    {
     "name": "stdout",
     "output_type": "stream",
     "text": [
      "FOR K NEIGHBORS CLASSIFIER :- \n",
      "\n",
      "Accuracy:  0.7857142857142857\n",
      "[[52  0  0]\n",
      " [ 9 36  1]\n",
      " [13  1  0]]\n",
      "              precision    recall  f1-score   support\n",
      "\n",
      "           0       0.70      1.00      0.83        52\n",
      "           1       0.97      0.78      0.87        46\n",
      "           2       0.00      0.00      0.00        14\n",
      "\n",
      "    accuracy                           0.79       112\n",
      "   macro avg       0.56      0.59      0.56       112\n",
      "weighted avg       0.73      0.79      0.74       112\n",
      "\n"
     ]
    }
   ],
   "source": [
    "print(\"FOR K NEIGHBORS CLASSIFIER :- \\n\")\n",
    "eval_model(y_test,ypred_m1)"
   ]
  },
  {
   "cell_type": "code",
   "execution_count": 54,
   "id": "85448e04",
   "metadata": {},
   "outputs": [
    {
     "name": "stdout",
     "output_type": "stream",
     "text": [
      "FOR DECISION TREE CLASSIFIER :- \n",
      "\n",
      "Accuracy:  0.8392857142857143\n",
      "[[46  1  5]\n",
      " [ 0 43  3]\n",
      " [ 6  3  5]]\n",
      "              precision    recall  f1-score   support\n",
      "\n",
      "           0       0.88      0.88      0.88        52\n",
      "           1       0.91      0.93      0.92        46\n",
      "           2       0.38      0.36      0.37        14\n",
      "\n",
      "    accuracy                           0.84       112\n",
      "   macro avg       0.73      0.73      0.73       112\n",
      "weighted avg       0.83      0.84      0.84       112\n",
      "\n"
     ]
    }
   ],
   "source": [
    "print(\"FOR DECISION TREE CLASSIFIER :- \\n\")\n",
    "eval_model(y_test,ypred_clf)"
   ]
  },
  {
   "cell_type": "code",
   "execution_count": 57,
   "id": "42d56401",
   "metadata": {},
   "outputs": [
    {
     "name": "stdout",
     "output_type": "stream",
     "text": [
      "FOR RANDOM FOREST CLASSIFIER :- \n",
      "\n",
      "Accuracy:  0.8839285714285714\n",
      "[[50  1  1]\n",
      " [ 0 45  1]\n",
      " [ 6  4  4]]\n",
      "              precision    recall  f1-score   support\n",
      "\n",
      "           0       0.89      0.96      0.93        52\n",
      "           1       0.90      0.98      0.94        46\n",
      "           2       0.67      0.29      0.40        14\n",
      "\n",
      "    accuracy                           0.88       112\n",
      "   macro avg       0.82      0.74      0.75       112\n",
      "weighted avg       0.87      0.88      0.86       112\n",
      "\n"
     ]
    }
   ],
   "source": [
    "print(\"FOR RANDOM FOREST CLASSIFIER :- \\n\")\n",
    "eval_model(y_test,ypred_rfc)"
   ]
  },
  {
   "cell_type": "code",
   "execution_count": 62,
   "id": "66a587ed",
   "metadata": {},
   "outputs": [],
   "source": [
    "data = {'LG':87.5, 'SVM1':86.6, 'SVM2':85.7, 'KNN':78.5, 'Decision tree':83.9, 'Random forest':88.3}"
   ]
  },
  {
   "cell_type": "code",
   "execution_count": 63,
   "id": "b3371bed",
   "metadata": {},
   "outputs": [],
   "source": [
    "Algorithm = list(data.keys())\n",
    "values = list(data.values())"
   ]
  },
  {
   "cell_type": "code",
   "execution_count": 81,
   "id": "f383d96b",
   "metadata": {},
   "outputs": [
    {
     "data": {
      "image/png": "[encoded data removed]",
      "text/plain": [
       "<Figure size 800x500 with 1 Axes>"
      ]
     },
     "metadata": {},
     "output_type": "display_data"
    }
   ],
   "source": [
    "fig = plt.figure(figsize = (8, 5))\n",
    "plt.plot(Algorithm, values, color ='green',marker = 'o',\n",
    "         markerfacecolor = 'blue', markersize = 10)\n",
    "plt.xlabel(\"ALGORITHMS\")\n",
    "plt.ylabel(\"ACCURACY\")\n",
    "plt.title(\"ACCURACY OF DIFFERENT ALGORITHMS\")\n",
    "plt.show()"
   ]
  },
  {
   "cell_type": "code",
   "execution_count": null,
   "id": "c481f1f8",
   "metadata": {},
   "outputs": [],
   "source": []
  }
 ],
 "metadata": {
  "kernelspec": {
   "display_name": "Python 3 (ipykernel)",
   "language": "python",
   "name": "python3"
  },
  "language_info": {
   "codemirror_mode": {
    "name": "ipython",
    "version": 3
   },
   "file_extension": ".py",
   "mimetype": "text/x-python",
   "name": "python",
   "nbconvert_exporter": "python",
   "pygments_lexer": "ipython3",
   "version": "3.9.13"
  }
 },
 "nbformat": 4,
 "nbformat_minor": 5
}
