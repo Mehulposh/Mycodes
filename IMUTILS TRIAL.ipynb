{
 "cells": [
  {
   "cell_type": "code",
   "execution_count": 2,
   "id": "55a8ba64",
   "metadata": {},
   "outputs": [],
   "source": [
    "from imutils import paths\n",
    "import cv2"
   ]
  },
  {
   "cell_type": "code",
   "execution_count": null,
   "id": "9ec944dc",
   "metadata": {},
   "outputs": [],
   "source": [
    "imagePaths = list(paths.list_images(r\"C:\\Users\\mehul\\OneDrive\\Documents\\Alzheimer_s Dataset\\train\"))"
   ]
  },
  {
   "cell_type": "code",
   "execution_count": null,
   "id": "bb345712",
   "metadata": {},
   "outputs": [],
   "source": [
    "imagePaths"
   ]
  },
  {
   "cell_type": "code",
   "execution_count": null,
   "id": "7e44b190",
   "metadata": {},
   "outputs": [],
   "source": [
    "for imagePath in imagePaths:\n",
    "    image = cv2.imread(imagePath)\n",
    "    cv2.imshow(\"Frames\",image)\n",
    "    cv2.waitKey()\n",
    "cv2.destroyAllWindows()\n"
   ]
  },
  {
   "cell_type": "code",
   "execution_count": null,
   "id": "5eca20c0",
   "metadata": {},
   "outputs": [],
   "source": [
    "import os\n",
    "import numpy as mp\n",
    "import pandas as pd\n",
    "import matplotlib.pyplot as plt\n",
    "from sklearn.model_selection import train_test_split\n",
    "from sklearn.metrics import accuracy_score"
   ]
  },
  {
   "cell_type": "code",
   "execution_count": null,
   "id": "1cd60dd4",
   "metadata": {},
   "outputs": [],
   "source": [
    "path = os.listdir(r\"C:\\Users\\mehul\\OneDrive\\Documents\\Alzheimer_s Dataset\\train\")\n",
    "classes = {\"NonDemented\":0, 'ModerateDemented':1}"
   ]
  },
  {
   "cell_type": "code",
   "execution_count": null,
   "id": "2ff44424",
   "metadata": {},
   "outputs": [],
   "source": [
    "import cv2\n",
    "X = []\n",
    "Y = []\n",
    "for cls in classes:\n",
    "    pth = r\"C:\\Users\\mehul\\OneDrive\\Documents\\Alzheimer_s Dataset\\train\"+cls\n",
    "    for j in os.listdir(pth):\n",
    "        img = cv2.imread(pth+\"/\"+j,0 )\n",
    "        img = cv2.resize(img,(200,200))\n",
    "        X.append(img)\n",
    "        Y.append(classes[cls])"
   ]
  },
  {
   "cell_type": "code",
   "execution_count": null,
   "id": "9f8327b9",
   "metadata": {},
   "outputs": [],
   "source": [
    "np.unique(Y)"
   ]
  },
  {
   "cell_type": "code",
   "execution_count": null,
   "id": "b7ddbfd1",
   "metadata": {},
   "outputs": [],
   "source": []
  }
 ],
 "metadata": {
  "kernelspec": {
   "display_name": "Python 3 (ipykernel)",
   "language": "python",
   "name": "python3"
  },
  "language_info": {
   "codemirror_mode": {
    "name": "ipython",
    "version": 3
   },
   "file_extension": ".py",
   "mimetype": "text/x-python",
   "name": "python",
   "nbconvert_exporter": "python",
   "pygments_lexer": "ipython3",
   "version": "3.9.13"
  }
 },
 "nbformat": 4,
 "nbformat_minor": 5
}
