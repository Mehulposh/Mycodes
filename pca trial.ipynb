{
 "cells": [
  {
   "cell_type": "code",
   "execution_count": 1,
   "id": "6d38b45a",
   "metadata": {},
   "outputs": [],
   "source": [
    "import numpy as np\n",
    "import pandas as pd\n",
    "import matplotlib.pyplot as plt"
   ]
  },
  {
   "cell_type": "code",
   "execution_count": 2,
   "id": "4de0ccda",
   "metadata": {},
   "outputs": [
    {
     "data": {
      "text/html": [
       "<div>\n",
       "<style scoped>\n",
       "    .dataframe tbody tr th:only-of-type {\n",
       "        vertical-align: middle;\n",
       "    }\n",
       "\n",
       "    .dataframe tbody tr th {\n",
       "        vertical-align: top;\n",
       "    }\n",
       "\n",
       "    .dataframe thead th {\n",
       "        text-align: right;\n",
       "    }\n",
       "</style>\n",
       "<table border=\"1\" class=\"dataframe\">\n",
       "  <thead>\n",
       "    <tr style=\"text-align: right;\">\n",
       "      <th></th>\n",
       "      <th>Subject ID</th>\n",
       "      <th>MRI ID</th>\n",
       "      <th>Group</th>\n",
       "      <th>Visit</th>\n",
       "      <th>MR Delay</th>\n",
       "      <th>M/F</th>\n",
       "      <th>Hand</th>\n",
       "      <th>Age</th>\n",
       "      <th>EDUC</th>\n",
       "      <th>SES</th>\n",
       "      <th>MMSE</th>\n",
       "      <th>CDR</th>\n",
       "      <th>eTIV</th>\n",
       "      <th>nWBV</th>\n",
       "      <th>ASF</th>\n",
       "    </tr>\n",
       "  </thead>\n",
       "  <tbody>\n",
       "    <tr>\n",
       "      <th>0</th>\n",
       "      <td>OAS2_0001</td>\n",
       "      <td>OAS2_0001_MR1</td>\n",
       "      <td>Nondemented</td>\n",
       "      <td>1</td>\n",
       "      <td>0</td>\n",
       "      <td>M</td>\n",
       "      <td>R</td>\n",
       "      <td>87</td>\n",
       "      <td>14</td>\n",
       "      <td>2.0</td>\n",
       "      <td>27.0</td>\n",
       "      <td>0.0</td>\n",
       "      <td>1987</td>\n",
       "      <td>0.696</td>\n",
       "      <td>0.883</td>\n",
       "    </tr>\n",
       "    <tr>\n",
       "      <th>1</th>\n",
       "      <td>OAS2_0001</td>\n",
       "      <td>OAS2_0001_MR2</td>\n",
       "      <td>Nondemented</td>\n",
       "      <td>2</td>\n",
       "      <td>457</td>\n",
       "      <td>M</td>\n",
       "      <td>R</td>\n",
       "      <td>88</td>\n",
       "      <td>14</td>\n",
       "      <td>2.0</td>\n",
       "      <td>30.0</td>\n",
       "      <td>0.0</td>\n",
       "      <td>2004</td>\n",
       "      <td>0.681</td>\n",
       "      <td>0.876</td>\n",
       "    </tr>\n",
       "    <tr>\n",
       "      <th>2</th>\n",
       "      <td>OAS2_0002</td>\n",
       "      <td>OAS2_0002_MR1</td>\n",
       "      <td>Demented</td>\n",
       "      <td>1</td>\n",
       "      <td>0</td>\n",
       "      <td>M</td>\n",
       "      <td>R</td>\n",
       "      <td>75</td>\n",
       "      <td>12</td>\n",
       "      <td>NaN</td>\n",
       "      <td>23.0</td>\n",
       "      <td>0.5</td>\n",
       "      <td>1678</td>\n",
       "      <td>0.736</td>\n",
       "      <td>1.046</td>\n",
       "    </tr>\n",
       "    <tr>\n",
       "      <th>3</th>\n",
       "      <td>OAS2_0002</td>\n",
       "      <td>OAS2_0002_MR2</td>\n",
       "      <td>Demented</td>\n",
       "      <td>2</td>\n",
       "      <td>560</td>\n",
       "      <td>M</td>\n",
       "      <td>R</td>\n",
       "      <td>76</td>\n",
       "      <td>12</td>\n",
       "      <td>NaN</td>\n",
       "      <td>28.0</td>\n",
       "      <td>0.5</td>\n",
       "      <td>1738</td>\n",
       "      <td>0.713</td>\n",
       "      <td>1.010</td>\n",
       "    </tr>\n",
       "    <tr>\n",
       "      <th>4</th>\n",
       "      <td>OAS2_0002</td>\n",
       "      <td>OAS2_0002_MR3</td>\n",
       "      <td>Demented</td>\n",
       "      <td>3</td>\n",
       "      <td>1895</td>\n",
       "      <td>M</td>\n",
       "      <td>R</td>\n",
       "      <td>80</td>\n",
       "      <td>12</td>\n",
       "      <td>NaN</td>\n",
       "      <td>22.0</td>\n",
       "      <td>0.5</td>\n",
       "      <td>1698</td>\n",
       "      <td>0.701</td>\n",
       "      <td>1.034</td>\n",
       "    </tr>\n",
       "  </tbody>\n",
       "</table>\n",
       "</div>"
      ],
      "text/plain": [
       "  Subject ID         MRI ID        Group  Visit  MR Delay M/F Hand  Age  EDUC  \\\n",
       "0  OAS2_0001  OAS2_0001_MR1  Nondemented      1         0   M    R   87    14   \n",
       "1  OAS2_0001  OAS2_0001_MR2  Nondemented      2       457   M    R   88    14   \n",
       "2  OAS2_0002  OAS2_0002_MR1     Demented      1         0   M    R   75    12   \n",
       "3  OAS2_0002  OAS2_0002_MR2     Demented      2       560   M    R   76    12   \n",
       "4  OAS2_0002  OAS2_0002_MR3     Demented      3      1895   M    R   80    12   \n",
       "\n",
       "   SES  MMSE  CDR  eTIV   nWBV    ASF  \n",
       "0  2.0  27.0  0.0  1987  0.696  0.883  \n",
       "1  2.0  30.0  0.0  2004  0.681  0.876  \n",
       "2  NaN  23.0  0.5  1678  0.736  1.046  \n",
       "3  NaN  28.0  0.5  1738  0.713  1.010  \n",
       "4  NaN  22.0  0.5  1698  0.701  1.034  "
      ]
     },
     "execution_count": 2,
     "metadata": {},
     "output_type": "execute_result"
    }
   ],
   "source": [
    "df = pd.read_csv('oasis_longitudinal.csv')\n",
    "df.head()"
   ]
  },
  {
   "cell_type": "code",
   "execution_count": 3,
   "id": "3d266e19",
   "metadata": {},
   "outputs": [
    {
     "data": {
      "text/html": [
       "<div>\n",
       "<style scoped>\n",
       "    .dataframe tbody tr th:only-of-type {\n",
       "        vertical-align: middle;\n",
       "    }\n",
       "\n",
       "    .dataframe tbody tr th {\n",
       "        vertical-align: top;\n",
       "    }\n",
       "\n",
       "    .dataframe thead th {\n",
       "        text-align: right;\n",
       "    }\n",
       "</style>\n",
       "<table border=\"1\" class=\"dataframe\">\n",
       "  <thead>\n",
       "    <tr style=\"text-align: right;\">\n",
       "      <th></th>\n",
       "      <th>Visit</th>\n",
       "      <th>MR Delay</th>\n",
       "      <th>M/F</th>\n",
       "      <th>Hand</th>\n",
       "      <th>Age</th>\n",
       "      <th>EDUC</th>\n",
       "      <th>SES</th>\n",
       "      <th>MMSE</th>\n",
       "      <th>CDR</th>\n",
       "      <th>eTIV</th>\n",
       "      <th>nWBV</th>\n",
       "      <th>ASF</th>\n",
       "    </tr>\n",
       "  </thead>\n",
       "  <tbody>\n",
       "    <tr>\n",
       "      <th>0</th>\n",
       "      <td>1</td>\n",
       "      <td>0</td>\n",
       "      <td>M</td>\n",
       "      <td>R</td>\n",
       "      <td>87</td>\n",
       "      <td>14</td>\n",
       "      <td>2.0</td>\n",
       "      <td>27.0</td>\n",
       "      <td>0.0</td>\n",
       "      <td>1987</td>\n",
       "      <td>0.696</td>\n",
       "      <td>0.883</td>\n",
       "    </tr>\n",
       "    <tr>\n",
       "      <th>1</th>\n",
       "      <td>2</td>\n",
       "      <td>457</td>\n",
       "      <td>M</td>\n",
       "      <td>R</td>\n",
       "      <td>88</td>\n",
       "      <td>14</td>\n",
       "      <td>2.0</td>\n",
       "      <td>30.0</td>\n",
       "      <td>0.0</td>\n",
       "      <td>2004</td>\n",
       "      <td>0.681</td>\n",
       "      <td>0.876</td>\n",
       "    </tr>\n",
       "    <tr>\n",
       "      <th>2</th>\n",
       "      <td>1</td>\n",
       "      <td>0</td>\n",
       "      <td>M</td>\n",
       "      <td>R</td>\n",
       "      <td>75</td>\n",
       "      <td>12</td>\n",
       "      <td>NaN</td>\n",
       "      <td>23.0</td>\n",
       "      <td>0.5</td>\n",
       "      <td>1678</td>\n",
       "      <td>0.736</td>\n",
       "      <td>1.046</td>\n",
       "    </tr>\n",
       "    <tr>\n",
       "      <th>3</th>\n",
       "      <td>2</td>\n",
       "      <td>560</td>\n",
       "      <td>M</td>\n",
       "      <td>R</td>\n",
       "      <td>76</td>\n",
       "      <td>12</td>\n",
       "      <td>NaN</td>\n",
       "      <td>28.0</td>\n",
       "      <td>0.5</td>\n",
       "      <td>1738</td>\n",
       "      <td>0.713</td>\n",
       "      <td>1.010</td>\n",
       "    </tr>\n",
       "    <tr>\n",
       "      <th>4</th>\n",
       "      <td>3</td>\n",
       "      <td>1895</td>\n",
       "      <td>M</td>\n",
       "      <td>R</td>\n",
       "      <td>80</td>\n",
       "      <td>12</td>\n",
       "      <td>NaN</td>\n",
       "      <td>22.0</td>\n",
       "      <td>0.5</td>\n",
       "      <td>1698</td>\n",
       "      <td>0.701</td>\n",
       "      <td>1.034</td>\n",
       "    </tr>\n",
       "  </tbody>\n",
       "</table>\n",
       "</div>"
      ],
      "text/plain": [
       "   Visit  MR Delay M/F Hand  Age  EDUC  SES  MMSE  CDR  eTIV   nWBV    ASF\n",
       "0      1         0   M    R   87    14  2.0  27.0  0.0  1987  0.696  0.883\n",
       "1      2       457   M    R   88    14  2.0  30.0  0.0  2004  0.681  0.876\n",
       "2      1         0   M    R   75    12  NaN  23.0  0.5  1678  0.736  1.046\n",
       "3      2       560   M    R   76    12  NaN  28.0  0.5  1738  0.713  1.010\n",
       "4      3      1895   M    R   80    12  NaN  22.0  0.5  1698  0.701  1.034"
      ]
     },
     "execution_count": 3,
     "metadata": {},
     "output_type": "execute_result"
    }
   ],
   "source": [
    "df = df.iloc[:,3:]\n",
    "df.head()"
   ]
  },
  {
   "cell_type": "code",
   "execution_count": 4,
   "id": "38b45dc4",
   "metadata": {},
   "outputs": [
    {
     "data": {
      "text/plain": [
       "Visit        0\n",
       "MR Delay     0\n",
       "M/F          0\n",
       "Hand         0\n",
       "Age          0\n",
       "EDUC         0\n",
       "SES         19\n",
       "MMSE         2\n",
       "CDR          0\n",
       "eTIV         0\n",
       "nWBV         0\n",
       "ASF          0\n",
       "dtype: int64"
      ]
     },
     "execution_count": 4,
     "metadata": {},
     "output_type": "execute_result"
    }
   ],
   "source": [
    "df.isnull().sum()"
   ]
  },
  {
   "cell_type": "code",
   "execution_count": 5,
   "id": "b06b37df",
   "metadata": {},
   "outputs": [],
   "source": [
    "df[\"SES\"].fillna(\"0\",inplace=True)\n",
    "df[\"MMSE\"].fillna(\"0\",inplace=True)\n",
    "df[\"M/F\"].replace(['M','F'],[0,1],inplace = True)\n",
    "df.drop(\"Hand\",axis = 1,inplace=True)"
   ]
  },
  {
   "cell_type": "code",
   "execution_count": 6,
   "id": "5aae0ace",
   "metadata": {},
   "outputs": [
    {
     "data": {
      "text/plain": [
       "0"
      ]
     },
     "execution_count": 6,
     "metadata": {},
     "output_type": "execute_result"
    }
   ],
   "source": [
    "df.duplicated().sum()"
   ]
  },
  {
   "cell_type": "code",
   "execution_count": 7,
   "id": "b6ba6e13",
   "metadata": {},
   "outputs": [
    {
     "name": "stdout",
     "output_type": "stream",
     "text": [
      "(373, 11)\n"
     ]
    }
   ],
   "source": [
    "print(df.shape)\n",
    "df1 = df.copy()"
   ]
  },
  {
   "cell_type": "code",
   "execution_count": 8,
   "id": "936a8b56",
   "metadata": {},
   "outputs": [],
   "source": [
    "from sklearn.preprocessing import StandardScaler"
   ]
  },
  {
   "cell_type": "code",
   "execution_count": 9,
   "id": "1ad2aa10",
   "metadata": {},
   "outputs": [
    {
     "name": "stdout",
     "output_type": "stream",
     "text": [
      "(373, 11)\n"
     ]
    }
   ],
   "source": [
    "sc = StandardScaler()\n",
    "df_sc = sc.fit_transform(df)\n",
    "print(df_sc.shape)"
   ]
  },
  {
   "cell_type": "code",
   "execution_count": 10,
   "id": "028a8192",
   "metadata": {},
   "outputs": [],
   "source": [
    "from sklearn.decomposition import PCA\n"
   ]
  },
  {
   "cell_type": "code",
   "execution_count": 11,
   "id": "c63d84d4",
   "metadata": {},
   "outputs": [
    {
     "name": "stdout",
     "output_type": "stream",
     "text": [
      "(373, 11)\n"
     ]
    }
   ],
   "source": [
    "pca = PCA()\n",
    "pcomps = pca.fit_transform(df_sc)\n",
    "print(pcomps.shape)"
   ]
  },
  {
   "cell_type": "code",
   "execution_count": 12,
   "id": "af9d9414",
   "metadata": {},
   "outputs": [
    {
     "name": "stdout",
     "output_type": "stream",
     "text": [
      "Eigen Values\n",
      " [2.86139381 2.01741928 1.92998493 1.3445331  1.20620865 0.5212081\n",
      " 0.40792941 0.3297994  0.32687526 0.07366513 0.01055281]\n",
      "Eigen Vectors\n",
      " [[ 2.36229791e-01  2.28308442e-01 -3.96674457e-01  1.38203997e-01\n",
      "   2.18260078e-01 -2.17163418e-01 -5.49686059e-02  1.05996007e-01\n",
      "   5.15365983e-01 -2.79755209e-01 -5.12543252e-01]\n",
      " [ 1.36174806e-01  8.74812462e-02 -4.67710340e-02  1.81853742e-01\n",
      "  -3.70616868e-01  2.10701915e-01 -5.41152251e-01  5.23543307e-01\n",
      "  -1.57077258e-01 -3.76272131e-01  1.53608744e-01]\n",
      " [ 5.86371073e-01  6.11794132e-01  2.23542822e-01  2.62642932e-01\n",
      "  -2.09379765e-02  6.31536208e-02  2.03137093e-01 -2.51518503e-01\n",
      "  -1.65715787e-01  3.10987492e-03  1.62787576e-01]\n",
      " [-1.07553909e-01 -1.18223952e-01  2.64193573e-01  3.44167282e-01\n",
      "   4.71354114e-01 -5.93232650e-01 -6.35080388e-02  9.88339126e-02\n",
      "  -2.14701551e-01 -3.19482156e-01  2.23917833e-01]\n",
      " [ 2.71307445e-01  2.19042291e-01  1.05465355e-02 -6.18177279e-01\n",
      "   2.46539993e-01 -3.05580436e-01 -3.27282007e-01  2.84626550e-01\n",
      "  -8.50282401e-02  3.72886099e-01  8.71628787e-02]\n",
      " [-1.30311035e-02 -3.04192656e-02  7.73298862e-01  9.29249732e-02\n",
      "  -2.31293131e-01 -1.03938369e-01 -2.09339738e-01  4.29556072e-02\n",
      "   3.46789625e-01  1.74612971e-01 -3.62709164e-01]\n",
      " [ 3.75352112e-02 -3.41144394e-02 -2.71975764e-01  1.67451011e-01\n",
      "  -6.33440312e-01 -6.38698526e-01  1.23385340e-01  2.00480126e-03\n",
      "  -5.21023060e-02  2.55721305e-01  5.38351432e-02]\n",
      " [-4.47041988e-02  2.86341279e-02 -4.72171434e-02  4.23793407e-01\n",
      "   2.13350223e-01  1.79158079e-01  2.94082631e-01  6.18746907e-01\n",
      "   1.47509903e-02  5.17692776e-01 -1.34032011e-02]\n",
      " [-1.02827378e-02 -6.02217042e-02 -2.14226727e-01  4.01851719e-01\n",
      "   1.72287918e-01  7.53050276e-02 -6.33183452e-01 -4.18997439e-01\n",
      "   7.96857951e-03  4.18289785e-01  4.50084824e-02]\n",
      " [ 7.02112089e-01 -7.05281597e-01  1.49625116e-02  1.61413552e-02\n",
      "   3.85685046e-02  5.13866517e-02  6.94786887e-02  1.19361442e-02\n",
      "   4.69058298e-03  1.53716755e-04 -3.48718391e-03]\n",
      " [ 1.00646423e-03  3.99679048e-03  1.65108351e-02 -1.52382722e-02\n",
      "  -1.33601085e-02  1.98700474e-03  2.09999488e-02  1.50670609e-02\n",
      "   7.11094631e-01 -1.33600520e-02  7.01992650e-01]]\n"
     ]
    }
   ],
   "source": [
    "eig_val = pca.explained_variance_\n",
    "eig_vec = pca.components_\n",
    "print('Eigen Values\\n',eig_val)\n",
    "print('Eigen Vectors\\n',eig_vec)"
   ]
  },
  {
   "cell_type": "code",
   "execution_count": 13,
   "id": "f75c43b0",
   "metadata": {},
   "outputs": [
    {
     "name": "stdout",
     "output_type": "stream",
     "text": [
      "11.029569892473111\n",
      "[25.94293196983507, 18.29100587590697, 17.498279162540907, 12.190258679528275, 10.936134983585308, 4.72555238090418, 3.698506956680762, 2.9901383537825716, 2.9636265696836364, 0.6678876177257953, 0.09567744982653761]\n",
      "[ 25.94293197  44.23393785  61.73221701  73.92247569  84.85861067\n",
      "  89.58416305  93.28267001  96.27280836  99.23643493  99.90432255\n",
      " 100.        ]\n"
     ]
    }
   ],
   "source": [
    "tot = sum(eig_val)\n",
    "print(tot)\n",
    "var_eig_val = [(i/tot)*100 for i in eig_val]\n",
    "print(var_eig_val)\n",
    "cum_eig_var = np.cumsum(np.array(var_eig_val))\n",
    "print(cum_eig_var)"
   ]
  },
  {
   "cell_type": "code",
   "execution_count": 14,
   "id": "03ef19f6",
   "metadata": {},
   "outputs": [
    {
     "data": {
      "text/html": [
       "<div>\n",
       "<style scoped>\n",
       "    .dataframe tbody tr th:only-of-type {\n",
       "        vertical-align: middle;\n",
       "    }\n",
       "\n",
       "    .dataframe tbody tr th {\n",
       "        vertical-align: top;\n",
       "    }\n",
       "\n",
       "    .dataframe thead th {\n",
       "        text-align: right;\n",
       "    }\n",
       "</style>\n",
       "<table border=\"1\" class=\"dataframe\">\n",
       "  <thead>\n",
       "    <tr style=\"text-align: right;\">\n",
       "      <th></th>\n",
       "      <th>PCA1</th>\n",
       "      <th>PCA2</th>\n",
       "      <th>PCA3</th>\n",
       "      <th>PCA4</th>\n",
       "      <th>PCA5</th>\n",
       "      <th>PCA6</th>\n",
       "      <th>PCA7</th>\n",
       "      <th>PCA8</th>\n",
       "      <th>PCA9</th>\n",
       "      <th>PCA10</th>\n",
       "      <th>PCA11</th>\n",
       "    </tr>\n",
       "  </thead>\n",
       "  <tbody>\n",
       "    <tr>\n",
       "      <th>0</th>\n",
       "      <td>3.008455</td>\n",
       "      <td>-0.735435</td>\n",
       "      <td>-1.717498</td>\n",
       "      <td>-0.477850</td>\n",
       "      <td>-2.236389</td>\n",
       "      <td>0.970540</td>\n",
       "      <td>0.326509</td>\n",
       "      <td>-0.359569</td>\n",
       "      <td>0.680511</td>\n",
       "      <td>-0.020270</td>\n",
       "      <td>0.384098</td>\n",
       "    </tr>\n",
       "    <tr>\n",
       "      <th>1</th>\n",
       "      <td>3.596791</td>\n",
       "      <td>-0.760334</td>\n",
       "      <td>-0.485902</td>\n",
       "      <td>-0.583093</td>\n",
       "      <td>-2.263828</td>\n",
       "      <td>0.777608</td>\n",
       "      <td>0.342040</td>\n",
       "      <td>-0.327972</td>\n",
       "      <td>0.053144</td>\n",
       "      <td>0.286281</td>\n",
       "      <td>0.439650</td>\n",
       "    </tr>\n",
       "    <tr>\n",
       "      <th>2</th>\n",
       "      <td>1.374102</td>\n",
       "      <td>0.163391</td>\n",
       "      <td>-2.262634</td>\n",
       "      <td>0.108521</td>\n",
       "      <td>0.409988</td>\n",
       "      <td>0.562981</td>\n",
       "      <td>1.859348</td>\n",
       "      <td>-0.404133</td>\n",
       "      <td>0.342723</td>\n",
       "      <td>-0.218933</td>\n",
       "      <td>-0.019670</td>\n",
       "    </tr>\n",
       "    <tr>\n",
       "      <th>3</th>\n",
       "      <td>2.267282</td>\n",
       "      <td>-0.095975</td>\n",
       "      <td>-0.909883</td>\n",
       "      <td>-0.076973</td>\n",
       "      <td>0.141826</td>\n",
       "      <td>0.388248</td>\n",
       "      <td>1.849205</td>\n",
       "      <td>-0.332318</td>\n",
       "      <td>-0.695371</td>\n",
       "      <td>0.008268</td>\n",
       "      <td>0.075677</td>\n",
       "    </tr>\n",
       "    <tr>\n",
       "      <th>4</th>\n",
       "      <td>3.039415</td>\n",
       "      <td>1.292740</td>\n",
       "      <td>0.924188</td>\n",
       "      <td>0.020445</td>\n",
       "      <td>0.956945</td>\n",
       "      <td>0.461077</td>\n",
       "      <td>1.667168</td>\n",
       "      <td>-0.694109</td>\n",
       "      <td>0.157720</td>\n",
       "      <td>-0.806584</td>\n",
       "      <td>0.011811</td>\n",
       "    </tr>\n",
       "  </tbody>\n",
       "</table>\n",
       "</div>"
      ],
      "text/plain": [
       "       PCA1      PCA2      PCA3      PCA4      PCA5      PCA6      PCA7  \\\n",
       "0  3.008455 -0.735435 -1.717498 -0.477850 -2.236389  0.970540  0.326509   \n",
       "1  3.596791 -0.760334 -0.485902 -0.583093 -2.263828  0.777608  0.342040   \n",
       "2  1.374102  0.163391 -2.262634  0.108521  0.409988  0.562981  1.859348   \n",
       "3  2.267282 -0.095975 -0.909883 -0.076973  0.141826  0.388248  1.849205   \n",
       "4  3.039415  1.292740  0.924188  0.020445  0.956945  0.461077  1.667168   \n",
       "\n",
       "       PCA8      PCA9     PCA10     PCA11  \n",
       "0 -0.359569  0.680511 -0.020270  0.384098  \n",
       "1 -0.327972  0.053144  0.286281  0.439650  \n",
       "2 -0.404133  0.342723 -0.218933 -0.019670  \n",
       "3 -0.332318 -0.695371  0.008268  0.075677  \n",
       "4 -0.694109  0.157720 -0.806584  0.011811  "
      ]
     },
     "execution_count": 14,
     "metadata": {},
     "output_type": "execute_result"
    }
   ],
   "source": [
    "pcomps_df = pd.DataFrame(pcomps,columns=['PCA1','PCA2','PCA3','PCA4','PCA5','PCA6','PCA7','PCA8','PCA9','PCA10','PCA11'])\n",
    "pcomps_df.head()"
   ]
  },
  {
   "cell_type": "code",
   "execution_count": 15,
   "id": "7d5dedf2",
   "metadata": {},
   "outputs": [
    {
     "data": {
      "text/html": [
       "<div>\n",
       "<style scoped>\n",
       "    .dataframe tbody tr th:only-of-type {\n",
       "        vertical-align: middle;\n",
       "    }\n",
       "\n",
       "    .dataframe tbody tr th {\n",
       "        vertical-align: top;\n",
       "    }\n",
       "\n",
       "    .dataframe thead th {\n",
       "        text-align: right;\n",
       "    }\n",
       "</style>\n",
       "<table border=\"1\" class=\"dataframe\">\n",
       "  <thead>\n",
       "    <tr style=\"text-align: right;\">\n",
       "      <th></th>\n",
       "      <th>PCA1</th>\n",
       "      <th>PCA2</th>\n",
       "      <th>PCA3</th>\n",
       "      <th>PCA4</th>\n",
       "    </tr>\n",
       "  </thead>\n",
       "  <tbody>\n",
       "    <tr>\n",
       "      <th>0</th>\n",
       "      <td>3.008455</td>\n",
       "      <td>-0.735435</td>\n",
       "      <td>-1.717498</td>\n",
       "      <td>-0.477850</td>\n",
       "    </tr>\n",
       "    <tr>\n",
       "      <th>1</th>\n",
       "      <td>3.596791</td>\n",
       "      <td>-0.760334</td>\n",
       "      <td>-0.485902</td>\n",
       "      <td>-0.583093</td>\n",
       "    </tr>\n",
       "    <tr>\n",
       "      <th>2</th>\n",
       "      <td>1.374102</td>\n",
       "      <td>0.163391</td>\n",
       "      <td>-2.262634</td>\n",
       "      <td>0.108521</td>\n",
       "    </tr>\n",
       "    <tr>\n",
       "      <th>3</th>\n",
       "      <td>2.267282</td>\n",
       "      <td>-0.095975</td>\n",
       "      <td>-0.909883</td>\n",
       "      <td>-0.076973</td>\n",
       "    </tr>\n",
       "    <tr>\n",
       "      <th>4</th>\n",
       "      <td>3.039415</td>\n",
       "      <td>1.292740</td>\n",
       "      <td>0.924188</td>\n",
       "      <td>0.020445</td>\n",
       "    </tr>\n",
       "  </tbody>\n",
       "</table>\n",
       "</div>"
      ],
      "text/plain": [
       "       PCA1      PCA2      PCA3      PCA4\n",
       "0  3.008455 -0.735435 -1.717498 -0.477850\n",
       "1  3.596791 -0.760334 -0.485902 -0.583093\n",
       "2  1.374102  0.163391 -2.262634  0.108521\n",
       "3  2.267282 -0.095975 -0.909883 -0.076973\n",
       "4  3.039415  1.292740  0.924188  0.020445"
      ]
     },
     "execution_count": 15,
     "metadata": {},
     "output_type": "execute_result"
    }
   ],
   "source": [
    "pcomps_df = pcomps_df.iloc[:,:4]\n",
    "pcomps_df.head()"
   ]
  },
  {
   "cell_type": "code",
   "execution_count": 16,
   "id": "348413e3",
   "metadata": {},
   "outputs": [],
   "source": [
    "x = pcomps_df.iloc[:,:4]"
   ]
  },
  {
   "cell_type": "code",
   "execution_count": 17,
   "id": "3f789cfa",
   "metadata": {},
   "outputs": [],
   "source": [
    "from sklearn.cluster import KMeans"
   ]
  },
  {
   "cell_type": "code",
   "execution_count": 24,
   "id": "eed13dfd",
   "metadata": {},
   "outputs": [
    {
     "name": "stderr",
     "output_type": "stream",
     "text": [
      "C:\\Users\\mehul\\anaconda3\\lib\\site-packages\\sklearn\\cluster\\_kmeans.py:1036: UserWarning: KMeans is known to have a memory leak on Windows with MKL, when there are less chunks than available threads. You can avoid it by setting the environment variable OMP_NUM_THREADS=2.\n",
      "  warnings.warn(\n"
     ]
    },
    {
     "name": "stdout",
     "output_type": "stream",
     "text": [
      "Wcss\n",
      " [3033.0391774708933, 2268.7963621579293, 1855.9164045587468, 1538.6460802232496, 1351.8948694566552, 1236.729565825763, 1144.650675586358, 1066.8359352404568, 1019.1668824482382, 969.810619721557, 923.6329653583277, 892.4667595749612, 851.4788978336462, 817.83067496869, 772.8175227141489, 748.7913437672972, 725.2270424465303, 698.20094186528]\n"
     ]
    },
    {
     "data": {
      "image/png": "[encoded data removed]",
      "text/plain": [
       "<Figure size 640x480 with 1 Axes>"
      ]
     },
     "metadata": {},
     "output_type": "display_data"
    }
   ],
   "source": [
    "wcss = []\n",
    "for i in range(1,19):\n",
    "    m = KMeans(n_clusters=i)\n",
    "    m.fit(x)\n",
    "    wcss.append(m.inertia_)\n",
    "\n",
    "print('Wcss\\n',wcss)\n",
    "plt.plot(list(range(1,19)),wcss)\n",
    "plt.title('Elbow Method')\n",
    "plt.xlabel('Num of clusters')\n",
    "plt.ylabel('WCSS')\n",
    "plt.grid()\n",
    "plt.show()"
   ]
  },
  {
   "cell_type": "code",
   "execution_count": 25,
   "id": "cdc2e64a",
   "metadata": {},
   "outputs": [
    {
     "data": {
      "text/plain": [
       "KMeans(n_clusters=5)"
      ]
     },
     "execution_count": 25,
     "metadata": {},
     "output_type": "execute_result"
    }
   ],
   "source": [
    "k2 = KMeans(n_clusters=5)\n",
    "k2.fit(x)"
   ]
  },
  {
   "cell_type": "code",
   "execution_count": 26,
   "id": "2f644f0f",
   "metadata": {},
   "outputs": [
    {
     "name": "stdout",
     "output_type": "stream",
     "text": [
      "[4 4 4 4 3 2 2 4 4 3 2 2 3 2 2 1 1 1 1 2 2 3 1 2 2 4 0 0 0 4 4 3 3 2 2 3 4\n",
      " 4 3 4 4 1 1 0 0 0 0 1 1 1 3 4 4 1 1 1 1 2 2 3 0 0 2 2 3 3 1 2 1 1 3 3 0 0\n",
      " 3 3 2 2 0 0 0 2 2 2 1 4 1 1 0 0 0 2 2 2 0 2 2 4 4 4 0 0 1 1 1 0 0 2 2 3 4\n",
      " 3 1 2 2 2 1 1 1 2 1 1 3 2 0 0 1 1 4 4 3 4 4 3 2 2 0 0 0 4 4 1 1 3 3 2 2 2\n",
      " 2 4 4 3 3 3 0 0 1 1 3 3 3 1 0 2 2 3 4 4 4 4 3 1 0 0 4 4 3 0 0 1 1 1 1 2 0\n",
      " 0 0 0 0 4 4 3 1 1 2 2 1 1 4 4 4 2 2 4 4 1 1 2 2 1 1 3 2 2 3 4 4 3 2 2 3 4\n",
      " 0 4 4 0 0 4 4 4 4 0 0 2 0 0 2 2 2 1 1 4 4 4 3 1 1 2 2 3 0 0 1 1 2 2 1 1 1\n",
      " 1 2 4 4 4 3 3 2 2 2 2 3 1 1 1 3 1 1 4 4 4 4 2 2 2 2 2 2 3 1 2 1 1 4 4 3 4\n",
      " 4 1 2 0 0 1 2 2 3 2 2 1 0 2 2 2 2 2 2 2 0 0 2 2 1 2 4 4 4 4 4 0 0 4 4 0 0\n",
      " 2 2 4 4 3 4 4 1 1 1 4 4 4 2 2 3 1 1 2 2 3 4 4 2 0 0 4 4 1 1 1 3 2 0 4 4 3\n",
      " 1 1 1]\n"
     ]
    }
   ],
   "source": [
    "ypred_k2 = k2.predict(x)\n",
    "print(ypred_k2)"
   ]
  },
  {
   "cell_type": "code",
   "execution_count": 27,
   "id": "31da49cb",
   "metadata": {},
   "outputs": [
    {
     "data": {
      "text/plain": [
       "(373, 12)"
      ]
     },
     "execution_count": 27,
     "metadata": {},
     "output_type": "execute_result"
    }
   ],
   "source": [
    "df1.shape"
   ]
  },
  {
   "cell_type": "code",
   "execution_count": 28,
   "id": "4af0339c",
   "metadata": {},
   "outputs": [
    {
     "data": {
      "text/html": [
       "<div>\n",
       "<style scoped>\n",
       "    .dataframe tbody tr th:only-of-type {\n",
       "        vertical-align: middle;\n",
       "    }\n",
       "\n",
       "    .dataframe tbody tr th {\n",
       "        vertical-align: top;\n",
       "    }\n",
       "\n",
       "    .dataframe thead th {\n",
       "        text-align: right;\n",
       "    }\n",
       "</style>\n",
       "<table border=\"1\" class=\"dataframe\">\n",
       "  <thead>\n",
       "    <tr style=\"text-align: right;\">\n",
       "      <th></th>\n",
       "      <th>Visit</th>\n",
       "      <th>MR Delay</th>\n",
       "      <th>M/F</th>\n",
       "      <th>Age</th>\n",
       "      <th>EDUC</th>\n",
       "      <th>SES</th>\n",
       "      <th>MMSE</th>\n",
       "      <th>CDR</th>\n",
       "      <th>eTIV</th>\n",
       "      <th>nWBV</th>\n",
       "      <th>ASF</th>\n",
       "      <th>Cluster5</th>\n",
       "    </tr>\n",
       "  </thead>\n",
       "  <tbody>\n",
       "    <tr>\n",
       "      <th>363</th>\n",
       "      <td>3</td>\n",
       "      <td>732</td>\n",
       "      <td>1</td>\n",
       "      <td>68</td>\n",
       "      <td>13</td>\n",
       "      <td>2.0</td>\n",
       "      <td>30.0</td>\n",
       "      <td>0.0</td>\n",
       "      <td>1506</td>\n",
       "      <td>0.740</td>\n",
       "      <td>1.165</td>\n",
       "      <td>1</td>\n",
       "    </tr>\n",
       "    <tr>\n",
       "      <th>364</th>\n",
       "      <td>4</td>\n",
       "      <td>2107</td>\n",
       "      <td>1</td>\n",
       "      <td>72</td>\n",
       "      <td>13</td>\n",
       "      <td>2.0</td>\n",
       "      <td>30.0</td>\n",
       "      <td>0.0</td>\n",
       "      <td>1510</td>\n",
       "      <td>0.723</td>\n",
       "      <td>1.162</td>\n",
       "      <td>3</td>\n",
       "    </tr>\n",
       "    <tr>\n",
       "      <th>365</th>\n",
       "      <td>1</td>\n",
       "      <td>0</td>\n",
       "      <td>1</td>\n",
       "      <td>72</td>\n",
       "      <td>16</td>\n",
       "      <td>3.0</td>\n",
       "      <td>24.0</td>\n",
       "      <td>0.5</td>\n",
       "      <td>1354</td>\n",
       "      <td>0.733</td>\n",
       "      <td>1.296</td>\n",
       "      <td>2</td>\n",
       "    </tr>\n",
       "    <tr>\n",
       "      <th>366</th>\n",
       "      <td>2</td>\n",
       "      <td>553</td>\n",
       "      <td>1</td>\n",
       "      <td>73</td>\n",
       "      <td>16</td>\n",
       "      <td>3.0</td>\n",
       "      <td>21.0</td>\n",
       "      <td>1.0</td>\n",
       "      <td>1351</td>\n",
       "      <td>0.708</td>\n",
       "      <td>1.299</td>\n",
       "      <td>0</td>\n",
       "    </tr>\n",
       "    <tr>\n",
       "      <th>367</th>\n",
       "      <td>1</td>\n",
       "      <td>0</td>\n",
       "      <td>0</td>\n",
       "      <td>80</td>\n",
       "      <td>16</td>\n",
       "      <td>1.0</td>\n",
       "      <td>28.0</td>\n",
       "      <td>0.5</td>\n",
       "      <td>1704</td>\n",
       "      <td>0.711</td>\n",
       "      <td>1.030</td>\n",
       "      <td>4</td>\n",
       "    </tr>\n",
       "    <tr>\n",
       "      <th>368</th>\n",
       "      <td>2</td>\n",
       "      <td>842</td>\n",
       "      <td>0</td>\n",
       "      <td>82</td>\n",
       "      <td>16</td>\n",
       "      <td>1.0</td>\n",
       "      <td>28.0</td>\n",
       "      <td>0.5</td>\n",
       "      <td>1693</td>\n",
       "      <td>0.694</td>\n",
       "      <td>1.037</td>\n",
       "      <td>4</td>\n",
       "    </tr>\n",
       "    <tr>\n",
       "      <th>369</th>\n",
       "      <td>3</td>\n",
       "      <td>2297</td>\n",
       "      <td>0</td>\n",
       "      <td>86</td>\n",
       "      <td>16</td>\n",
       "      <td>1.0</td>\n",
       "      <td>26.0</td>\n",
       "      <td>0.5</td>\n",
       "      <td>1688</td>\n",
       "      <td>0.675</td>\n",
       "      <td>1.040</td>\n",
       "      <td>3</td>\n",
       "    </tr>\n",
       "    <tr>\n",
       "      <th>370</th>\n",
       "      <td>1</td>\n",
       "      <td>0</td>\n",
       "      <td>1</td>\n",
       "      <td>61</td>\n",
       "      <td>13</td>\n",
       "      <td>2.0</td>\n",
       "      <td>30.0</td>\n",
       "      <td>0.0</td>\n",
       "      <td>1319</td>\n",
       "      <td>0.801</td>\n",
       "      <td>1.331</td>\n",
       "      <td>1</td>\n",
       "    </tr>\n",
       "    <tr>\n",
       "      <th>371</th>\n",
       "      <td>2</td>\n",
       "      <td>763</td>\n",
       "      <td>1</td>\n",
       "      <td>63</td>\n",
       "      <td>13</td>\n",
       "      <td>2.0</td>\n",
       "      <td>30.0</td>\n",
       "      <td>0.0</td>\n",
       "      <td>1327</td>\n",
       "      <td>0.796</td>\n",
       "      <td>1.323</td>\n",
       "      <td>1</td>\n",
       "    </tr>\n",
       "    <tr>\n",
       "      <th>372</th>\n",
       "      <td>3</td>\n",
       "      <td>1608</td>\n",
       "      <td>1</td>\n",
       "      <td>65</td>\n",
       "      <td>13</td>\n",
       "      <td>2.0</td>\n",
       "      <td>30.0</td>\n",
       "      <td>0.0</td>\n",
       "      <td>1333</td>\n",
       "      <td>0.801</td>\n",
       "      <td>1.317</td>\n",
       "      <td>1</td>\n",
       "    </tr>\n",
       "  </tbody>\n",
       "</table>\n",
       "</div>"
      ],
      "text/plain": [
       "     Visit  MR Delay  M/F  Age  EDUC  SES  MMSE  CDR  eTIV   nWBV    ASF  \\\n",
       "363      3       732    1   68    13  2.0  30.0  0.0  1506  0.740  1.165   \n",
       "364      4      2107    1   72    13  2.0  30.0  0.0  1510  0.723  1.162   \n",
       "365      1         0    1   72    16  3.0  24.0  0.5  1354  0.733  1.296   \n",
       "366      2       553    1   73    16  3.0  21.0  1.0  1351  0.708  1.299   \n",
       "367      1         0    0   80    16  1.0  28.0  0.5  1704  0.711  1.030   \n",
       "368      2       842    0   82    16  1.0  28.0  0.5  1693  0.694  1.037   \n",
       "369      3      2297    0   86    16  1.0  26.0  0.5  1688  0.675  1.040   \n",
       "370      1         0    1   61    13  2.0  30.0  0.0  1319  0.801  1.331   \n",
       "371      2       763    1   63    13  2.0  30.0  0.0  1327  0.796  1.323   \n",
       "372      3      1608    1   65    13  2.0  30.0  0.0  1333  0.801  1.317   \n",
       "\n",
       "     Cluster5  \n",
       "363         1  \n",
       "364         3  \n",
       "365         2  \n",
       "366         0  \n",
       "367         4  \n",
       "368         4  \n",
       "369         3  \n",
       "370         1  \n",
       "371         1  \n",
       "372         1  "
      ]
     },
     "execution_count": 28,
     "metadata": {},
     "output_type": "execute_result"
    }
   ],
   "source": [
    "df1['Cluster5'] = ypred_k2\n",
    "df1.tail(10)"
   ]
  },
  {
   "cell_type": "code",
   "execution_count": null,
   "id": "e2f22fe8",
   "metadata": {},
   "outputs": [],
   "source": []
  }
 ],
 "metadata": {
  "kernelspec": {
   "display_name": "Python 3 (ipykernel)",
   "language": "python",
   "name": "python3"
  },
  "language_info": {
   "codemirror_mode": {
    "name": "ipython",
    "version": 3
   },
   "file_extension": ".py",
   "mimetype": "text/x-python",
   "name": "python",
   "nbconvert_exporter": "python",
   "pygments_lexer": "ipython3",
   "version": "3.9.13"
  }
 },
 "nbformat": 4,
 "nbformat_minor": 5
}
