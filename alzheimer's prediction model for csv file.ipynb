{
 "cells": [
  {
   "cell_type": "code",
   "execution_count": 2,
   "id": "f528fcf2",
   "metadata": {},
   "outputs": [],
   "source": [
    "import pandas as pd\n",
    "import matplotlib.pyplot as plt\n",
    "import numpy as np\n",
    "import sklearn as sk\n",
    "import os"
   ]
  },
  {
   "cell_type": "code",
   "execution_count": 5,
   "id": "82f39d8a",
   "metadata": {},
   "outputs": [
    {
     "data": {
      "text/html": [
       "<div>\n",
       "<style scoped>\n",
       "    .dataframe tbody tr th:only-of-type {\n",
       "        vertical-align: middle;\n",
       "    }\n",
       "\n",
       "    .dataframe tbody tr th {\n",
       "        vertical-align: top;\n",
       "    }\n",
       "\n",
       "    .dataframe thead th {\n",
       "        text-align: right;\n",
       "    }\n",
       "</style>\n",
       "<table border=\"1\" class=\"dataframe\">\n",
       "  <thead>\n",
       "    <tr style=\"text-align: right;\">\n",
       "      <th></th>\n",
       "      <th>Subject</th>\n",
       "      <th>Gender</th>\n",
       "      <th>mmse</th>\n",
       "      <th>ageAtEntry</th>\n",
       "      <th>cdr</th>\n",
       "      <th>memory</th>\n",
       "      <th>dx1</th>\n",
       "    </tr>\n",
       "  </thead>\n",
       "  <tbody>\n",
       "    <tr>\n",
       "      <th>0</th>\n",
       "      <td>OAS30124</td>\n",
       "      <td>female</td>\n",
       "      <td>16</td>\n",
       "      <td>79.14579</td>\n",
       "      <td>1.0</td>\n",
       "      <td>1</td>\n",
       "      <td>'AD Dementia'</td>\n",
       "    </tr>\n",
       "    <tr>\n",
       "      <th>1</th>\n",
       "      <td>OAS30124</td>\n",
       "      <td>female</td>\n",
       "      <td>21</td>\n",
       "      <td>79.14579</td>\n",
       "      <td>0.5</td>\n",
       "      <td>0.5</td>\n",
       "      <td>'AD Dementia'</td>\n",
       "    </tr>\n",
       "    <tr>\n",
       "      <th>2</th>\n",
       "      <td>OAS31129</td>\n",
       "      <td>female</td>\n",
       "      <td>20</td>\n",
       "      <td>68.07666</td>\n",
       "      <td>1.0</td>\n",
       "      <td>1</td>\n",
       "      <td>'AD Dementia'</td>\n",
       "    </tr>\n",
       "    <tr>\n",
       "      <th>3</th>\n",
       "      <td>OAS31129</td>\n",
       "      <td>female</td>\n",
       "      <td>28</td>\n",
       "      <td>68.07666</td>\n",
       "      <td>1.0</td>\n",
       "      <td>1</td>\n",
       "      <td>'AD Dementia'</td>\n",
       "    </tr>\n",
       "    <tr>\n",
       "      <th>4</th>\n",
       "      <td>OAS31129</td>\n",
       "      <td>female</td>\n",
       "      <td>29</td>\n",
       "      <td>68.07666</td>\n",
       "      <td>0.5</td>\n",
       "      <td>0.5</td>\n",
       "      <td>'AD Dementia'</td>\n",
       "    </tr>\n",
       "  </tbody>\n",
       "</table>\n",
       "</div>"
      ],
      "text/plain": [
       "    Subject  Gender mmse  ageAtEntry  cdr memory            dx1\n",
       "0  OAS30124  female   16    79.14579  1.0      1  'AD Dementia'\n",
       "1  OAS30124  female   21    79.14579  0.5    0.5  'AD Dementia'\n",
       "2  OAS31129  female   20    68.07666  1.0      1  'AD Dementia'\n",
       "3  OAS31129  female   28    68.07666  1.0      1  'AD Dementia'\n",
       "4  OAS31129  female   29    68.07666  0.5    0.5  'AD Dementia'"
      ]
     },
     "execution_count": 5,
     "metadata": {},
     "output_type": "execute_result"
    }
   ],
   "source": [
    "df = pd.read_csv(r\"C:\\Users\\mehul\\OneDrive\\Documents\\datasets\\clinical-data-for Alzheimers.csv\")\n",
    "df.head()"
   ]
  },
  {
   "cell_type": "code",
   "execution_count": 6,
   "id": "1d6e583a",
   "metadata": {},
   "outputs": [
    {
     "name": "stderr",
     "output_type": "stream",
     "text": [
      "C:\\Users\\mehul\\AppData\\Local\\Temp\\ipykernel_12592\\329097789.py:1: FutureWarning: The default value of regex will change from True to False in a future version. In addition, single character regular expressions will *not* be treated as literal strings when regex=True.\n",
      "  df['mmse'] = df['mmse'].str.replace(r'?', '72')\n",
      "C:\\Users\\mehul\\AppData\\Local\\Temp\\ipykernel_12592\\329097789.py:2: FutureWarning: The default value of regex will change from True to False in a future version. In addition, single character regular expressions will *not* be treated as literal strings when regex=True.\n",
      "  df['mmse'] = df['mmse'].str.replace(r'?','1')\n"
     ]
    },
    {
     "data": {
      "text/plain": [
       "0"
      ]
     },
     "execution_count": 6,
     "metadata": {},
     "output_type": "execute_result"
    }
   ],
   "source": [
    "df['mmse'] = df['mmse'].str.replace(r'?', '72')\n",
    "df['mmse'] = df['mmse'].str.replace(r'?','1')\n",
    "\n",
    "df = df.dropna()\n",
    "df.isnull().sum().sum()"
   ]
  },
  {
   "cell_type": "code",
   "execution_count": 7,
   "id": "f9432cb3",
   "metadata": {},
   "outputs": [
    {
     "name": "stdout",
     "output_type": "stream",
     "text": [
      "removing columns : ['Subject', 'dx1']\n"
     ]
    },
    {
     "data": {
      "text/html": [
       "<div>\n",
       "<style scoped>\n",
       "    .dataframe tbody tr th:only-of-type {\n",
       "        vertical-align: middle;\n",
       "    }\n",
       "\n",
       "    .dataframe tbody tr th {\n",
       "        vertical-align: top;\n",
       "    }\n",
       "\n",
       "    .dataframe thead th {\n",
       "        text-align: right;\n",
       "    }\n",
       "</style>\n",
       "<table border=\"1\" class=\"dataframe\">\n",
       "  <thead>\n",
       "    <tr style=\"text-align: right;\">\n",
       "      <th></th>\n",
       "      <th>Gender</th>\n",
       "      <th>mmse</th>\n",
       "      <th>ageAtEntry</th>\n",
       "      <th>cdr</th>\n",
       "      <th>memory</th>\n",
       "    </tr>\n",
       "  </thead>\n",
       "  <tbody>\n",
       "    <tr>\n",
       "      <th>0</th>\n",
       "      <td>female</td>\n",
       "      <td>16</td>\n",
       "      <td>79.14579</td>\n",
       "      <td>1.0</td>\n",
       "      <td>1</td>\n",
       "    </tr>\n",
       "    <tr>\n",
       "      <th>1</th>\n",
       "      <td>female</td>\n",
       "      <td>21</td>\n",
       "      <td>79.14579</td>\n",
       "      <td>0.5</td>\n",
       "      <td>0.5</td>\n",
       "    </tr>\n",
       "    <tr>\n",
       "      <th>2</th>\n",
       "      <td>female</td>\n",
       "      <td>20</td>\n",
       "      <td>68.07666</td>\n",
       "      <td>1.0</td>\n",
       "      <td>1</td>\n",
       "    </tr>\n",
       "    <tr>\n",
       "      <th>3</th>\n",
       "      <td>female</td>\n",
       "      <td>28</td>\n",
       "      <td>68.07666</td>\n",
       "      <td>1.0</td>\n",
       "      <td>1</td>\n",
       "    </tr>\n",
       "    <tr>\n",
       "      <th>4</th>\n",
       "      <td>female</td>\n",
       "      <td>29</td>\n",
       "      <td>68.07666</td>\n",
       "      <td>0.5</td>\n",
       "      <td>0.5</td>\n",
       "    </tr>\n",
       "  </tbody>\n",
       "</table>\n",
       "</div>"
      ],
      "text/plain": [
       "   Gender mmse  ageAtEntry  cdr memory\n",
       "0  female   16    79.14579  1.0      1\n",
       "1  female   21    79.14579  0.5    0.5\n",
       "2  female   20    68.07666  1.0      1\n",
       "3  female   28    68.07666  1.0      1\n",
       "4  female   29    68.07666  0.5    0.5"
      ]
     },
     "execution_count": 7,
     "metadata": {},
     "output_type": "execute_result"
    }
   ],
   "source": [
    "X = df\n",
    "Y = df['dx1']\n",
    "del df\n",
    "\n",
    "remove_columns = list(X.columns)[0:1]\n",
    "remove_columns.append('dx1')\n",
    "\n",
    "print(\"removing columns :\", remove_columns)\n",
    "\n",
    "X = X.drop(remove_columns, axis=1)\n",
    "\n",
    "features = list(X.columns)\n",
    "X.head(5)"
   ]
  },
  {
   "cell_type": "code",
   "execution_count": 10,
   "id": "a2c5b1e4",
   "metadata": {},
   "outputs": [
    {
     "name": "stdout",
     "output_type": "stream",
     "text": [
      "Categorical variable distribution :\n",
      "\n",
      "\n",
      "Distribution of Gender\n",
      "male      692\n",
      "female    537\n",
      "Name: Gender, dtype: int64\n"
     ]
    }
   ],
   "source": [
    "numerical_vars = ['ageAtEntry','mmse','cdr','memory']\n",
    "categorical_vars = list(set(features)- set(numerical_vars))\n",
    "\n",
    "print(\"Categorical variable distribution :\\n\")\n",
    "\n",
    "for var in categorical_vars:\n",
    "    print('\\nDistribution of',var)\n",
    "    \n",
    "    print(X[var].value_counts())"
   ]
  },
  {
   "cell_type": "code",
   "execution_count": 11,
   "id": "a6aadb03",
   "metadata": {},
   "outputs": [
    {
     "name": "stdout",
     "output_type": "stream",
     "text": [
      "Numerical Variable Distribution :\n",
      "\n"
     ]
    },
    {
     "data": {
      "image/png": "[encoded data removed]",
      "text/plain": [
       "<Figure size 640x480 with 1 Axes>"
      ]
     },
     "metadata": {},
     "output_type": "display_data"
    },
    {
     "name": "stdout",
     "output_type": "stream",
     "text": [
      "count    1229.000000\n",
      "mean       72.900069\n",
      "std         7.739166\n",
      "min        47.605750\n",
      "25%        67.550995\n",
      "50%        73.013010\n",
      "75%        78.650240\n",
      "max        95.567420\n",
      "Name: ageAtEntry, dtype: float64\n",
      "73.344284    15\n",
      "50.291580    14\n",
      "69.609856    10\n",
      "67.129364    10\n",
      "68.303900    10\n",
      "             ..\n",
      "80.229980     1\n",
      "65.308690     1\n",
      "73.503080     1\n",
      "60.301163     1\n",
      "76.966460     1\n",
      "Name: ageAtEntry, Length: 416, dtype: int64\n"
     ]
    },
    {
     "data": {
      "image/png": "[encoded data removed]",
      "text/plain": [
       "<Figure size 640x480 with 1 Axes>"
      ]
     },
     "metadata": {},
     "output_type": "display_data"
    },
    {
     "name": "stdout",
     "output_type": "stream",
     "text": [
      "count     1229\n",
      "unique      28\n",
      "top         29\n",
      "freq       177\n",
      "Name: mmse, dtype: object\n",
      "29    177\n",
      "30    141\n",
      "28    139\n",
      "27    133\n",
      "26    116\n",
      "25    112\n",
      "24     77\n",
      "23     67\n",
      "22     55\n",
      "21     38\n",
      "19     32\n",
      "72     28\n",
      "20     26\n",
      "17     17\n",
      "18     16\n",
      "16     13\n",
      "15      9\n",
      "12      8\n",
      "14      7\n",
      "10      4\n",
      "13      3\n",
      "6       3\n",
      "7       2\n",
      "9       2\n",
      "1       1\n",
      "2       1\n",
      "4       1\n",
      "0       1\n",
      "Name: mmse, dtype: int64\n"
     ]
    },
    {
     "data": {
      "image/png": "[encoded data removed]",
      "text/plain": [
       "<Figure size 640x480 with 1 Axes>"
      ]
     },
     "metadata": {},
     "output_type": "display_data"
    },
    {
     "name": "stdout",
     "output_type": "stream",
     "text": [
      "count    1229.000000\n",
      "mean        0.702604\n",
      "std         0.415548\n",
      "min         0.000000\n",
      "25%         0.500000\n",
      "50%         0.500000\n",
      "75%         1.000000\n",
      "max         3.000000\n",
      "Name: cdr, dtype: float64\n",
      "0.5    851\n",
      "1.0    291\n",
      "2.0     63\n",
      "0.0     17\n",
      "3.0      7\n",
      "Name: cdr, dtype: int64\n"
     ]
    },
    {
     "data": {
      "image/png": "[encoded data removed]",
      "text/plain": [
       "<Figure size 640x480 with 1 Axes>"
      ]
     },
     "metadata": {},
     "output_type": "display_data"
    },
    {
     "name": "stdout",
     "output_type": "stream",
     "text": [
      "count     1229\n",
      "unique       6\n",
      "top        0.5\n",
      "freq       672\n",
      "Name: memory, dtype: object\n",
      "0.5    672\n",
      "1      395\n",
      "2      104\n",
      "0       48\n",
      "3        9\n",
      "?        1\n",
      "Name: memory, dtype: int64\n"
     ]
    }
   ],
   "source": [
    "%matplotlib inline \n",
    "\n",
    "print('Numerical Variable Distribution :\\n')\n",
    "\n",
    "for var in numerical_vars:\n",
    "    plt.hist(X[var],bins=10)\n",
    "    plt.title(var+'Distribution')\n",
    "    plt.show()\n",
    "    \n",
    "    print(X[var].describe())\n",
    "    print(X[var].value_counts())\n",
    "    "
   ]
  },
  {
   "cell_type": "code",
   "execution_count": 12,
   "id": "74b580b7",
   "metadata": {},
   "outputs": [
    {
     "data": {
      "image/png": "[encoded data removed]",
      "text/plain": [
       "<Figure size 640x480 with 1 Axes>"
      ]
     },
     "metadata": {},
     "output_type": "display_data"
    }
   ],
   "source": [
    "plt.bar(Y.value_counts().index,Y.value_counts())\n",
    "plt.show()\n"
   ]
  },
  {
   "cell_type": "code",
   "execution_count": null,
   "id": "80e227df",
   "metadata": {},
   "outputs": [],
   "source": []
  }
 ],
 "metadata": {
  "kernelspec": {
   "display_name": "Python 3 (ipykernel)",
   "language": "python",
   "name": "python3"
  },
  "language_info": {
   "codemirror_mode": {
    "name": "ipython",
    "version": 3
   },
   "file_extension": ".py",
   "mimetype": "text/x-python",
   "name": "python",
   "nbconvert_exporter": "python",
   "pygments_lexer": "ipython3",
   "version": "3.9.13"
  }
 },
 "nbformat": 4,
 "nbformat_minor": 5
}
